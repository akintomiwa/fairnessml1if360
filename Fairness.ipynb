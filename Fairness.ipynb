{
  "cells": [
    {
      "cell_type": "markdown",
      "metadata": {
        "id": "5bL_DqjsNQtd"
      },
      "source": [
        "# Brief\n"
      ]
    },
    {
      "cell_type": "markdown",
      "metadata": {
        "id": "8mg2bSb_CYYB"
      },
      "source": [
        "Task 1. \n",
        "<br></br>\n",
        "On both datasets, conduct model selection. Investigate generalisation and propose two models (i) most accurate and (ii) fairest models. Use five fold cross-validation. Compute metrics on test set.\n",
        "Metrics: Accuracy and Equality of Opportunity\n",
        "<br></br>"
      ]
    },
    {
      "cell_type": "markdown",
      "metadata": {
        "id": "rTcR_UAoleRE"
      },
      "source": [
        "Task 2.\n",
        "<br></br>\n",
        "Perform reweighing (algorithmic fairness method) and evaluate impact of fairness intervention on metrics. Again, select models across hyperparrameter values for each of the two metrics. Propose models optimised for each metric.\n",
        "<br></br>"
      ]
    },
    {
      "cell_type": "markdown",
      "metadata": {
        "id": "lYTFB_7I_XLg"
      },
      "source": [
        "# Task 1\n"
      ]
    },
    {
      "cell_type": "markdown",
      "metadata": {
        "id": "xXETOo36Fsgc"
      },
      "source": [
        "## Evaluation of Adult and German Datasets with respect to Accuracy and Fairness\n",
        "\n",
        "Use a logistic regression model to model AIF360 Adult and German Data"
      ]
    },
    {
      "cell_type": "markdown",
      "metadata": {
        "id": "wpfo3Vrfv4kX"
      },
      "source": [
        "## Notes\n",
        "\n",
        "Weight dacay, C, learning rate and other hyperparameters\n",
        "\n",
        "## Evaluate generalization\n",
        "C is a term that balances fit and generalisation ability\n",
        "evaluation on the left out fold, compared to \n",
        "validation: validating model fit.\n",
        "\n",
        "Steps:\n",
        "try different Cs, take average of perfomance over all folds for each given set of folds.\n",
        "Best model in terms of acuracy of fairness gives 'best'model.\n",
        "\n",
        "Then use entire training set with the selected C. Evaluate and report results in a table.\n",
        "\n"
      ]
    },
    {
      "cell_type": "markdown",
      "metadata": {
        "id": "LMg3uZvpGFCR"
      },
      "source": [
        "## Adult Dataset"
      ]
    },
    {
      "cell_type": "markdown",
      "metadata": {
        "id": "qB26IEQP_AqT"
      },
      "source": [
        "\n",
        "## 1.1 Load Packages and Adult Data\n"
      ]
    },
    {
      "cell_type": "code",
      "execution_count": 2,
      "metadata": {
        "colab": {
          "base_uri": "https://localhost:8080/"
        },
        "id": "Geg3HzI-7DgV",
        "outputId": "e850ced3-948f-44f9-9d2b-36ea6f0f7c3c"
      },
      "outputs": [
        {
          "name": "stdout",
          "output_type": "stream",
          "text": [
            "Collecting aif360[LFR]\n",
            "  Downloading aif360-0.4.0-py3-none-any.whl (175 kB)\n",
            "\u001b[?25l\r\u001b[K     |█▉                              | 10 kB 25.7 MB/s eta 0:00:01\r\u001b[K     |███▊                            | 20 kB 13.5 MB/s eta 0:00:01\r\u001b[K     |█████▋                          | 30 kB 9.4 MB/s eta 0:00:01\r\u001b[K     |███████▌                        | 40 kB 3.8 MB/s eta 0:00:01\r\u001b[K     |█████████▍                      | 51 kB 3.8 MB/s eta 0:00:01\r\u001b[K     |███████████▎                    | 61 kB 4.5 MB/s eta 0:00:01\r\u001b[K     |█████████████                   | 71 kB 4.7 MB/s eta 0:00:01\r\u001b[K     |███████████████                 | 81 kB 4.9 MB/s eta 0:00:01\r\u001b[K     |████████████████▉               | 92 kB 5.5 MB/s eta 0:00:01\r\u001b[K     |██████████████████▊             | 102 kB 4.4 MB/s eta 0:00:01\r\u001b[K     |████████████████████▋           | 112 kB 4.4 MB/s eta 0:00:01\r\u001b[K     |██████████████████████▌         | 122 kB 4.4 MB/s eta 0:00:01\r\u001b[K     |████████████████████████▎       | 133 kB 4.4 MB/s eta 0:00:01\r\u001b[K     |██████████████████████████▏     | 143 kB 4.4 MB/s eta 0:00:01\r\u001b[K     |████████████████████████████    | 153 kB 4.4 MB/s eta 0:00:01\r\u001b[K     |██████████████████████████████  | 163 kB 4.4 MB/s eta 0:00:01\r\u001b[K     |███████████████████████████████▉| 174 kB 4.4 MB/s eta 0:00:01\r\u001b[K     |████████████████████████████████| 175 kB 4.4 MB/s \n",
            "\u001b[33mWARNING: aif360 0.4.0 does not provide the extra 'lfr'\u001b[0m\n",
            "\u001b[?25hRequirement already satisfied: matplotlib in /usr/local/lib/python3.7/dist-packages (from aif360[LFR]) (3.2.2)\n",
            "Requirement already satisfied: pandas>=0.24.0 in /usr/local/lib/python3.7/dist-packages (from aif360[LFR]) (1.3.5)\n",
            "Requirement already satisfied: scipy<1.6.0,>=1.2.0 in /usr/local/lib/python3.7/dist-packages (from aif360[LFR]) (1.4.1)\n",
            "Requirement already satisfied: scikit-learn>=0.22.1 in /usr/local/lib/python3.7/dist-packages (from aif360[LFR]) (1.0.2)\n",
            "Collecting tempeh\n",
            "  Downloading tempeh-0.1.12-py3-none-any.whl (39 kB)\n",
            "Requirement already satisfied: numpy>=1.16 in /usr/local/lib/python3.7/dist-packages (from aif360[LFR]) (1.21.6)\n",
            "Requirement already satisfied: python-dateutil>=2.7.3 in /usr/local/lib/python3.7/dist-packages (from pandas>=0.24.0->aif360[LFR]) (2.8.2)\n",
            "Requirement already satisfied: pytz>=2017.3 in /usr/local/lib/python3.7/dist-packages (from pandas>=0.24.0->aif360[LFR]) (2022.1)\n",
            "Requirement already satisfied: six>=1.5 in /usr/local/lib/python3.7/dist-packages (from python-dateutil>=2.7.3->pandas>=0.24.0->aif360[LFR]) (1.15.0)\n",
            "Requirement already satisfied: joblib>=0.11 in /usr/local/lib/python3.7/dist-packages (from scikit-learn>=0.22.1->aif360[LFR]) (1.1.0)\n",
            "Requirement already satisfied: threadpoolctl>=2.0.0 in /usr/local/lib/python3.7/dist-packages (from scikit-learn>=0.22.1->aif360[LFR]) (3.1.0)\n",
            "Requirement already satisfied: cycler>=0.10 in /usr/local/lib/python3.7/dist-packages (from matplotlib->aif360[LFR]) (0.11.0)\n",
            "Requirement already satisfied: pyparsing!=2.0.4,!=2.1.2,!=2.1.6,>=2.0.1 in /usr/local/lib/python3.7/dist-packages (from matplotlib->aif360[LFR]) (3.0.8)\n",
            "Requirement already satisfied: kiwisolver>=1.0.1 in /usr/local/lib/python3.7/dist-packages (from matplotlib->aif360[LFR]) (1.4.2)\n",
            "Requirement already satisfied: typing-extensions in /usr/local/lib/python3.7/dist-packages (from kiwisolver>=1.0.1->matplotlib->aif360[LFR]) (4.2.0)\n",
            "Collecting memory-profiler\n",
            "  Downloading memory_profiler-0.60.0.tar.gz (38 kB)\n",
            "Collecting shap\n",
            "  Downloading shap-0.40.0-cp37-cp37m-manylinux2010_x86_64.whl (564 kB)\n",
            "\u001b[K     |████████████████████████████████| 564 kB 48.7 MB/s \n",
            "\u001b[?25hRequirement already satisfied: pytest in /usr/local/lib/python3.7/dist-packages (from tempeh->aif360[LFR]) (3.6.4)\n",
            "Requirement already satisfied: requests in /usr/local/lib/python3.7/dist-packages (from tempeh->aif360[LFR]) (2.23.0)\n",
            "Requirement already satisfied: psutil in /usr/local/lib/python3.7/dist-packages (from memory-profiler->tempeh->aif360[LFR]) (5.4.8)\n",
            "Requirement already satisfied: py>=1.5.0 in /usr/local/lib/python3.7/dist-packages (from pytest->tempeh->aif360[LFR]) (1.11.0)\n",
            "Requirement already satisfied: attrs>=17.4.0 in /usr/local/lib/python3.7/dist-packages (from pytest->tempeh->aif360[LFR]) (21.4.0)\n",
            "Requirement already satisfied: pluggy<0.8,>=0.5 in /usr/local/lib/python3.7/dist-packages (from pytest->tempeh->aif360[LFR]) (0.7.1)\n",
            "Requirement already satisfied: atomicwrites>=1.0 in /usr/local/lib/python3.7/dist-packages (from pytest->tempeh->aif360[LFR]) (1.4.0)\n",
            "Requirement already satisfied: more-itertools>=4.0.0 in /usr/local/lib/python3.7/dist-packages (from pytest->tempeh->aif360[LFR]) (8.12.0)\n",
            "Requirement already satisfied: setuptools in /usr/local/lib/python3.7/dist-packages (from pytest->tempeh->aif360[LFR]) (57.4.0)\n",
            "Requirement already satisfied: urllib3!=1.25.0,!=1.25.1,<1.26,>=1.21.1 in /usr/local/lib/python3.7/dist-packages (from requests->tempeh->aif360[LFR]) (1.24.3)\n",
            "Requirement already satisfied: certifi>=2017.4.17 in /usr/local/lib/python3.7/dist-packages (from requests->tempeh->aif360[LFR]) (2021.10.8)\n",
            "Requirement already satisfied: idna<3,>=2.5 in /usr/local/lib/python3.7/dist-packages (from requests->tempeh->aif360[LFR]) (2.10)\n",
            "Requirement already satisfied: chardet<4,>=3.0.2 in /usr/local/lib/python3.7/dist-packages (from requests->tempeh->aif360[LFR]) (3.0.4)\n",
            "Requirement already satisfied: cloudpickle in /usr/local/lib/python3.7/dist-packages (from shap->tempeh->aif360[LFR]) (1.3.0)\n",
            "Requirement already satisfied: tqdm>4.25.0 in /usr/local/lib/python3.7/dist-packages (from shap->tempeh->aif360[LFR]) (4.64.0)\n",
            "Collecting slicer==0.0.7\n",
            "  Downloading slicer-0.0.7-py3-none-any.whl (14 kB)\n",
            "Requirement already satisfied: numba in /usr/local/lib/python3.7/dist-packages (from shap->tempeh->aif360[LFR]) (0.51.2)\n",
            "Requirement already satisfied: packaging>20.9 in /usr/local/lib/python3.7/dist-packages (from shap->tempeh->aif360[LFR]) (21.3)\n",
            "Requirement already satisfied: llvmlite<0.35,>=0.34.0.dev0 in /usr/local/lib/python3.7/dist-packages (from numba->shap->tempeh->aif360[LFR]) (0.34.0)\n",
            "Building wheels for collected packages: memory-profiler\n",
            "  Building wheel for memory-profiler (setup.py) ... \u001b[?25l\u001b[?25hdone\n",
            "  Created wheel for memory-profiler: filename=memory_profiler-0.60.0-py3-none-any.whl size=31284 sha256=1809a09ef2de8d166cebc8e9a9ab85d081736ac98096b3ed1e85f25c4cbf3186\n",
            "  Stored in directory: /root/.cache/pip/wheels/67/2b/fb/326e30d638c538e69a5eb0aa47f4223d979f502bbdb403950f\n",
            "Successfully built memory-profiler\n",
            "Installing collected packages: slicer, shap, memory-profiler, tempeh, aif360\n",
            "Successfully installed aif360-0.4.0 memory-profiler-0.60.0 shap-0.40.0 slicer-0.0.7 tempeh-0.1.12\n"
          ]
        }
      ],
      "source": [
        "!pip install 'aif360[LFR]'"
      ]
    },
    {
      "cell_type": "code",
      "execution_count": null,
      "metadata": {
        "id": "G1L5qU4BV4Tz"
      },
      "outputs": [],
      "source": [
        "# Move to correct directory for adult dataset"
      ]
    },
    {
      "cell_type": "code",
      "execution_count": 3,
      "metadata": {
        "colab": {
          "base_uri": "https://localhost:8080/"
        },
        "id": "z8H_py5Y7EoS",
        "outputId": "dabdb25f-8d39-4c67-b434-a8c148c77d1d"
      },
      "outputs": [
        {
          "name": "stdout",
          "output_type": "stream",
          "text": [
            "/usr/local/lib/python3.7/dist-packages/aif360/data/raw/adult\n"
          ]
        }
      ],
      "source": [
        "cd /usr/local/lib/python3.7/dist-packages/aif360/data/raw/adult"
      ]
    },
    {
      "cell_type": "code",
      "execution_count": 4,
      "metadata": {
        "colab": {
          "base_uri": "https://localhost:8080/"
        },
        "id": "ULfecuLA7K9s",
        "outputId": "10735d0f-e364-4ab8-cea1-99f4d2513495"
      },
      "outputs": [
        {
          "name": "stdout",
          "output_type": "stream",
          "text": [
            "--2022-05-14 12:09:12--  https://archive.ics.uci.edu/ml/machine-learning-databases/adult/adult.data\n",
            "Resolving archive.ics.uci.edu (archive.ics.uci.edu)... 128.195.10.252\n",
            "Connecting to archive.ics.uci.edu (archive.ics.uci.edu)|128.195.10.252|:443... connected.\n",
            "HTTP request sent, awaiting response... 200 OK\n",
            "Length: 3974305 (3.8M) [application/x-httpd-php]\n",
            "Saving to: ‘adult.data’\n",
            "\n",
            "adult.data          100%[===================>]   3.79M  3.64MB/s    in 1.0s    \n",
            "\n",
            "2022-05-14 12:09:14 (3.64 MB/s) - ‘adult.data’ saved [3974305/3974305]\n",
            "\n",
            "--2022-05-14 12:09:14--  https://archive.ics.uci.edu/ml/machine-learning-databases/adult/adult.names\n",
            "Resolving archive.ics.uci.edu (archive.ics.uci.edu)... 128.195.10.252\n",
            "Connecting to archive.ics.uci.edu (archive.ics.uci.edu)|128.195.10.252|:443... connected.\n",
            "HTTP request sent, awaiting response... 200 OK\n",
            "Length: 5229 (5.1K) [application/x-httpd-php]\n",
            "Saving to: ‘adult.names’\n",
            "\n",
            "adult.names         100%[===================>]   5.11K  --.-KB/s    in 0s      \n",
            "\n",
            "2022-05-14 12:09:14 (119 MB/s) - ‘adult.names’ saved [5229/5229]\n",
            "\n",
            "--2022-05-14 12:09:14--  https://archive.ics.uci.edu/ml/machine-learning-databases/adult/adult.test\n",
            "Resolving archive.ics.uci.edu (archive.ics.uci.edu)... 128.195.10.252\n",
            "Connecting to archive.ics.uci.edu (archive.ics.uci.edu)|128.195.10.252|:443... connected.\n",
            "HTTP request sent, awaiting response... 200 OK\n",
            "Length: 2003153 (1.9M) [application/x-httpd-php]\n",
            "Saving to: ‘adult.test’\n",
            "\n",
            "adult.test          100%[===================>]   1.91M  2.09MB/s    in 0.9s    \n",
            "\n",
            "2022-05-14 12:09:16 (2.09 MB/s) - ‘adult.test’ saved [2003153/2003153]\n",
            "\n"
          ]
        }
      ],
      "source": [
        "!wget https://archive.ics.uci.edu/ml/machine-learning-databases/adult/adult.data\n",
        "!wget https://archive.ics.uci.edu/ml/machine-learning-databases/adult/adult.names\n",
        "!wget https://archive.ics.uci.edu/ml/machine-learning-databases/adult/adult.test"
      ]
    },
    {
      "cell_type": "code",
      "execution_count": null,
      "metadata": {
        "id": "lgtV27Whv3xk"
      },
      "outputs": [],
      "source": [
        "# cd /usr/local/lib/python3.7/dist-packages/aif360/data/raw/adult"
      ]
    },
    {
      "cell_type": "code",
      "execution_count": 49,
      "metadata": {
        "id": "1dfWyHnC2VuL"
      },
      "outputs": [],
      "source": [
        "# cell needs to be run twice for some reason\n",
        "\n",
        "# Load all necessary packages\n",
        "%matplotlib inline\n",
        "import sys\n",
        "sys.path.append(\"../\")\n",
        "import numpy as np\n",
        "import pandas as pd\n",
        "from tqdm import tqdm\n",
        "import sklearn\n",
        "from aif360.datasets import BinaryLabelDataset\n",
        "from aif360.datasets import AdultDataset, GermanDataset\n",
        "from aif360.metrics import ClassificationMetric\n",
        "from aif360.metrics import BinaryLabelDatasetMetric\n",
        "from aif360.algorithms.preprocessing.optim_preproc_helpers.data_preproc_functions\\\n",
        "        import load_preproc_data_adult, load_preproc_data_german\n",
        "from aif360.algorithms.preprocessing.reweighing import Reweighing\n",
        "from aif360.algorithms.preprocessing import LFR\n",
        "from sklearn.linear_model import LogisticRegression\n",
        "from sklearn.model_selection import KFold, cross_val_predict\n",
        "from sklearn.preprocessing import StandardScaler\n",
        "from sklearn.metrics import accuracy_score\n",
        "from sklearn.model_selection import cross_val_score\n",
        "import matplotlib.pyplot as plt\n",
        "from IPython.display import Markdown, display\n",
        "from matplotlib.pyplot import figure\n",
        "import seaborn as sb\n",
        "\n",
        "# from aif360.sklearn.preprocessing import ReweighingMeta, Reweighing\n",
        "# from sklearn.model_selection import GridSearchCV\n",
        "# from sklearn.model_selection import StratifiedKFold\n",
        "# from sklearn.model_selection import StratifedKFold\n",
        "# from common_utils import compute_metrics\n",
        "\n",
        "import pdb"
      ]
    },
    {
      "cell_type": "markdown",
      "metadata": {
        "id": "oMG6PyypWPr3"
      },
      "source": [
        "##1.2  Adult Dataset Preprocessing - Loading, Train-Test Split and Normalisation"
      ]
    },
    {
      "cell_type": "markdown",
      "metadata": {
        "id": "eIzD3KZ020Ai"
      },
      "source": [
        "Load dataset and set protected characteristics options for Adult dataset.\n",
        "<br></br>\n",
        "Protected features for Adult Dataset - Sex."
      ]
    },
    {
      "cell_type": "code",
      "execution_count": 57,
      "metadata": {
        "id": "apUvSOC4Q8ym"
      },
      "outputs": [],
      "source": [
        "# import dataset\n",
        "initial_dataset = load_preproc_data_adult(['sex'])"
      ]
    },
    {
      "cell_type": "markdown",
      "metadata": {
        "id": "8e7pCwCyT9yg"
      },
      "source": [
        "### 1.2.1 Adult Dataset - Train/Test Split, Normalisation"
      ]
    },
    {
      "cell_type": "code",
      "execution_count": 58,
      "metadata": {
        "id": "_AKaQ4GwRiam"
      },
      "outputs": [],
      "source": [
        "#Split between training and test set.\n",
        "train_adult, test_adult = initial_dataset.split([0.7], shuffle=True)\n",
        "\n",
        "#Normalize the features dataset [x], both train and test.\n",
        "normalize_data = StandardScaler()\n",
        "adult_x_train = normalize_data.fit_transform(train_adult.features)\n",
        "adult_y_train = train_adult.labels.ravel()\n",
        "\n",
        "adult_x_test = normalize_data.transform(test_adult.features) \n",
        "adult_y_test = test_adult.labels.ravel()\n",
        "\n",
        "# Define protected attribute: For Adult Dataset [load_preproc_data_adult]\n",
        "privileged_groups = [{'sex': 1}]\n",
        "unprivileged_groups = [{'sex': 0}]"
      ]
    },
    {
      "cell_type": "markdown",
      "metadata": {
        "id": "N7OSAR6_dR1S"
      },
      "source": [
        "### 1.2.2 Data information"
      ]
    },
    {
      "cell_type": "code",
      "execution_count": null,
      "metadata": {
        "colab": {
          "base_uri": "https://localhost:8080/"
        },
        "id": "6Zy3XYnhDkgI",
        "outputId": "025b375e-f0e2-43e0-b0f9-281f9eb98cf6"
      },
      "outputs": [
        {
          "name": "stdout",
          "output_type": "stream",
          "text": [
            "Full dataset dimensions (48842, 18)\n",
            "Full dataset feature names ['race', 'sex', 'Age (decade)=10', 'Age (decade)=20', 'Age (decade)=30', 'Age (decade)=40', 'Age (decade)=50', 'Age (decade)=60', 'Age (decade)=>=70', 'Education Years=6', 'Education Years=7', 'Education Years=8', 'Education Years=9', 'Education Years=10', 'Education Years=11', 'Education Years=12', 'Education Years=<6', 'Education Years=>12']\n"
          ]
        }
      ],
      "source": [
        "print(\"Full dataset dimensions\", initial_dataset.features.shape)\n",
        "print(\"Full dataset feature names\", initial_dataset.feature_names)"
      ]
    },
    {
      "cell_type": "markdown",
      "metadata": {
        "id": "zD5rgHzXdacd"
      },
      "source": [
        "The dimensions of the data, as well as the features of the data is explored in order to guide the selection of the model type."
      ]
    },
    {
      "cell_type": "markdown",
      "metadata": {
        "id": "UJ2Sg1-FWcfv"
      },
      "source": [
        "## 1.3 Adult Dataset  - Model Selection"
      ]
    },
    {
      "cell_type": "markdown",
      "metadata": {
        "id": "x1DTWXD97WWt"
      },
      "source": [
        "### 1.3.1 Model Selection classes and functions"
      ]
    },
    {
      "cell_type": "code",
      "execution_count": 9,
      "metadata": {
        "id": "A9T9ZwVRTR-W"
      },
      "outputs": [],
      "source": [
        "class LogisticClassifier():\n",
        "  def __init__(self, dataset, unprivileged_groups, privileged_groups, solver=\"liblinear\", C=0.1, penalty=\"l2\", l1_ratio=None):\n",
        "    # keep track of current split during cross validation\n",
        "    self.current_k = 0\n",
        "\n",
        "    # cross validation\n",
        "    self.cv = KFold(n_splits=5, random_state=None, shuffle=False)\n",
        "\n",
        "    # spliting the dataset\n",
        "    self.splits = dataset.split(5)\n",
        "\n",
        "    # privileged_groups and unprivileged_groups\n",
        "    self.unprivileged_groups = unprivileged_groups\n",
        "    self.privileged_groups = privileged_groups\n",
        "\n",
        "    # normalize data\n",
        "    self.scale_orig = StandardScaler()\n",
        "\n",
        "    # logisitic regression model\n",
        "    self.model = LogisticRegression(solver=solver, C=C, penalty=penalty, l1_ratio= l1_ratio if l1_ratio else None)\n",
        "\n",
        "  def scale(self, data):\n",
        "    \"\"\"\n",
        "    Normalize data\n",
        "    \"\"\"\n",
        "    x = self.scale_orig.fit_transform(data.features)\n",
        "    y = data.labels.ravel()\n",
        "\n",
        "    return x, y\n",
        "\n",
        "  def train(self, X, y, fit_params):\n",
        "    self.model.fit(X, y, fit_params)\n",
        "\n",
        "  def predict(self, X):\n",
        "    return self.model.predict(X)\n",
        "\n",
        "  def __fairness__(self, clf, X, y):\n",
        "    current_split = self.splits[self.current_k]\n",
        "\n",
        "    # scale\n",
        "    X, _unused_y = self.scale(current_split)\n",
        "\n",
        "    # predict\n",
        "    predictions = self.predict(X) \n",
        "\n",
        "    test_pred = current_split.copy()\n",
        "    test_pred.labels = predictions\n",
        "\n",
        "    metric = ClassificationMetric(current_split, test_pred, unprivileged_groups=self.unprivileged_groups, privileged_groups=self.privileged_groups)\n",
        "\n",
        "    self.current_k += 1\n",
        "    \n",
        "    return metric.equal_opportunity_difference()\n",
        "\n",
        "  def accuracy(self, x_train, y_train):\n",
        "    scores = cross_val_score(self.model, x_train, y_train, cv=self.cv, scoring=\"accuracy\")\n",
        "\n",
        "    return np.mean(scores)\n",
        "\n",
        "  def accuracy_raw(self, x_train, y_train):\n",
        "    scores = cross_val_score(self.model, x_train, y_train, cv=self.cv, scoring=\"accuracy\")\n",
        "\n",
        "    return scores\n",
        "\n",
        "  def fairness_raw(self, x_train, y_train):\n",
        "    fscores = cross_val_score(self.model, x_train, y_train, cv=self.cv, scoring=self.__fairness__)\n",
        "\n",
        "    return fscores\n",
        "\n",
        "  def accuracy_fairness_score(self, x_train, y_train):\n",
        "    \"\"\"\n",
        "    Get accuracy+fairness score\n",
        "    \"\"\"\n",
        "    scores = cross_val_score(self.model, x_train, y_train, cv=self.cv, scoring=self.__differentialscoring__)\n",
        "\n",
        "    # reset current split\n",
        "    self.current_k = 0\n",
        "\n",
        "    return np.mean(scores), scores\n",
        "\n",
        "  def fairness_model_selection(self, x_train, y_train):\n",
        "    current_k = 0\n",
        "\n",
        "    # cross validation\n",
        "    scores = cross_val_score(self.model, x_train, y_train, cv=self.cv, scoring=self.__fairness__)\n",
        "\n",
        "    # update current split index\n",
        "    self.current_k = 0\n",
        "\n",
        "    # get fairness\n",
        "    fairness = np.mean(scores)\n",
        "\n",
        "    return fairness\n",
        "\n",
        "  def __differentialscoring__(self, clf=None, X=None, y=None):\n",
        "    \"\"\"\n",
        "    This accounts for both accuracy and fairness\n",
        "    \"\"\"\n",
        "    # current split\n",
        "    split = self.splits[self.current_k]\n",
        "    predictions = self.predict(X)\n",
        "    test_pred = split.copy()\n",
        "    test_pred.labels = predictions\n",
        "    metric = ClassificationMetric(split, test_pred, unprivileged_groups=self.unprivileged_groups, privileged_groups=self.privileged_groups)\n",
        "    fmetric = metric.equal_opportunity_difference()\n",
        "    accuracy = self.accuracy(X,y)\n",
        "    # cycle through k\n",
        "    self.current_k += 1\n",
        "\n",
        "    return accuracy - fmetric"
      ]
    },
    {
      "cell_type": "code",
      "execution_count": 10,
      "metadata": {
        "id": "4JPTbxCjdLkn"
      },
      "outputs": [],
      "source": [
        "# convert rawscore to labelled dataframe of scores\n",
        "def scores_to_df(rawscores):\n",
        "  df = pd.DataFrame(np.row_stack(rawscores))\n",
        "  df_new = df.rename(columns={0: 'Fold_1', 1: 'Fold_2', 2: 'Fold_3',  3: 'Fold_4',  4: 'Fold_5'},\n",
        "                              index={0: '0.00001', 1: '0.0001', 2: '0.001', 3: '0.01', 4: '0.1', 5: '1'})\n",
        "  # df_new['index'] = df_new.index\n",
        "  df_new_transposed = df_new.T\n",
        "  return df_new_transposed"
      ]
    },
    {
      "cell_type": "markdown",
      "metadata": {
        "id": "pR7aDGEbWSS2"
      },
      "source": [
        "### 1.3.2 Model Selection - Accuracy, Fairness"
      ]
    },
    {
      "cell_type": "markdown",
      "metadata": {
        "id": "tzn4d7Y-Xtue"
      },
      "source": [
        "Equality of opportunity is the fairness metric of choice. We compute the diffference in TPR between both groups, defined by the protected attribute.\n",
        "<br> </br> \n",
        "The c values tested were: 1.0, 0.1, 0.01, 0.001 0.0001 and 0.00001."
      ]
    },
    {
      "cell_type": "code",
      "execution_count": 59,
      "metadata": {
        "id": "iSDstYMklBnd"
      },
      "outputs": [],
      "source": [
        "# Instantiate Classifier\n",
        "adult_clf = LogisticClassifier(train_adult, unprivileged_groups, privileged_groups)\n",
        "# train classifier\n",
        "adult_clf.train(adult_x_train, adult_y_train,None)"
      ]
    },
    {
      "cell_type": "code",
      "execution_count": 60,
      "metadata": {
        "id": "iMNesZVrnOfA"
      },
      "outputs": [],
      "source": [
        "# For original adult dataset\n",
        "# Compute fairness and accuracy over folds and over Cs\n",
        "C = [0.00001, 0.0001, 0.001, 0.01, 0.1, 1]\n",
        "fairness = []\n",
        "accuracy = []\n",
        "accuracy_raw = []\n",
        "fairness_raw = []\n",
        "\n",
        "for value in C:\n",
        "  clf = LogisticClassifier(train_adult, unprivileged_groups, privileged_groups, C=value, solver=\"liblinear\", penalty=\"l2\")\n",
        "  clf.train(adult_x_train, adult_y_train,None)\n",
        "  fairness.append(clf.fairness_model_selection(adult_x_train, adult_y_train))\n",
        "  accuracy.append(clf.accuracy(adult_x_train, adult_y_train))\n",
        "  accuracy_raw.append(clf.accuracy_raw(adult_x_train, adult_y_train))\n",
        "  fairness_raw.append(clf.fairness_raw(adult_x_train, adult_y_train))\n",
        "    "
      ]
    },
    {
      "cell_type": "code",
      "execution_count": 61,
      "metadata": {
        "colab": {
          "base_uri": "https://localhost:8080/",
          "height": 92
        },
        "id": "66UL8jay5yIo",
        "outputId": "25478287-a2be-41a3-cab0-4797b48fc5e2"
      },
      "outputs": [
        {
          "data": {
            "text/markdown": [
              "#### Original Adult training dataset Metrics"
            ],
            "text/plain": [
              "<IPython.core.display.Markdown object>"
            ]
          },
          "metadata": {},
          "output_type": "display_data"
        },
        {
          "name": "stdout",
          "output_type": "stream",
          "text": [
            "Best C value for accuracy:  0.01 with score: 0.8028604487317452\n",
            "Best C value for fairness:  0.0001 with score: -0.24254491326550193\n"
          ]
        }
      ],
      "source": [
        "display(Markdown(\"#### Original Adult training dataset Metrics\"))\n",
        "\n",
        "# Best Accuracy score, Fairness score and corresponding Cs\n",
        "adult_accuracy_comparison = dict(zip(C, accuracy))\n",
        "best_C_acc = max(adult_accuracy_comparison, key=lambda key: adult_accuracy_comparison[key])\n",
        "adult_fairness_comparison = dict(zip(C, fairness))\n",
        "best_C_fair = max(adult_fairness_comparison, key=lambda key: adult_fairness_comparison[key])\n",
        "print(\"Best C value for accuracy: \", best_C_acc, \"with score:\", adult_accuracy_comparison[best_C_acc])\n",
        "print(\"Best C value for fairness: \", best_C_fair, \"with score:\", adult_fairness_comparison[best_C_fair])"
      ]
    },
    {
      "cell_type": "markdown",
      "metadata": {
        "id": "O-tz8ApVXkuD"
      },
      "source": [
        "### 1.3.3 Observations and plots"
      ]
    },
    {
      "cell_type": "markdown",
      "metadata": {
        "id": "AjpaGz4K1f8b"
      },
      "source": [
        "Given the resuts above, a Logistic Regression model with a hyper-parameter value of **C = 0.1** has been selected as the best performing model, in terms of accuracy, from the model selction process.\n",
        "<br></br>\n",
        "The best model in terms of fairness however is a Logistic regression model for which **C = 0.00001**.\n",
        "\n",
        "<br></br>\n",
        "The observed results change intermittently between runs."
      ]
    },
    {
      "cell_type": "code",
      "execution_count": 65,
      "metadata": {
        "id": "4_jKGnnmbkPQ"
      },
      "outputs": [],
      "source": [
        "accuracy_raw_df_new = scores_to_df(accuracy_raw)"
      ]
    },
    {
      "cell_type": "code",
      "execution_count": 66,
      "metadata": {
        "colab": {
          "base_uri": "https://localhost:8080/"
        },
        "id": "QI9t4QYl7u3k",
        "outputId": "43c1a3e8-e4f1-45b9-c2c5-fbddc4166a3d"
      },
      "outputs": [
        {
          "name": "stdout",
          "output_type": "stream",
          "text": [
            "         0.00001    0.0001     0.001      0.01       0.1         1\n",
            "Fold_1  0.800380  0.800965  0.804767  0.805499  0.805499  0.805499\n",
            "Fold_2  0.793214  0.792629  0.801404  0.801696  0.801696  0.801696\n",
            "Fold_3  0.797163  0.797163  0.806230  0.805937  0.805937  0.805937\n",
            "Fold_4  0.793507  0.795116  0.802428  0.802428  0.802428  0.802428\n",
            "Fold_5  0.794354  0.794939  0.798888  0.798742  0.798742  0.798742\n"
          ]
        }
      ],
      "source": [
        "print(accuracy_raw_df_new)"
      ]
    },
    {
      "cell_type": "code",
      "execution_count": null,
      "metadata": {
        "colab": {
          "base_uri": "https://localhost:8080/",
          "height": 283
        },
        "id": "eAnQyWtaObMq",
        "outputId": "851a87a9-eb08-4802-9e56-64ba53af52f8"
      },
      "outputs": [
        {
          "data": {
            "image/png": "[encoded data removed]",
            "text/plain": [
              "<Figure size 432x288 with 1 Axes>"
            ]
          },
          "metadata": {
            "needs_background": "light"
          },
          "output_type": "display_data"
        }
      ],
      "source": [
        "# Plot boxplot for Accuracy\n",
        "bplot = sb.boxplot( \n",
        "                 data=accuracy_raw_df_new, \n",
        "                 width=0.5,\n",
        "                 palette=\"crest\")\n",
        "# bplot.axes.set_title(\"Model Comparison, accuracy, Original Adult Dataset\", fontsize=16)\n",
        "bplot.set_xlabel(\"C\", fontsize=14)\n",
        "bplot.set_ylabel(\"Accuracy\", fontsize=14)\n",
        "bplot.tick_params(labelsize=10)\n",
        "\n",
        "# # add swarmplot\n",
        "# bplot=sb.swarmplot(data=accuracy_raw_df_new, \n",
        "#               color='black',\n",
        "#               alpha=0.75)"
      ]
    },
    {
      "cell_type": "code",
      "execution_count": null,
      "metadata": {
        "id": "_nYCmdUPt7DI"
      },
      "outputs": [],
      "source": [
        "#  output file name\n",
        "plot_file_name=\"boxplot_ModelComparison_accuracy_OriginalAdult.jpg\"\n",
        " \n",
        "# save as jpeg\n",
        "bplot.figure.savefig(plot_file_name,\n",
        "                    format='jpeg',\n",
        "                    dpi=100)"
      ]
    },
    {
      "cell_type": "markdown",
      "metadata": {
        "id": "Huiz6YVT8zay"
      },
      "source": [
        "Fairness"
      ]
    },
    {
      "cell_type": "code",
      "execution_count": null,
      "metadata": {
        "id": "dc1Igbsx813Y"
      },
      "outputs": [],
      "source": [
        "fairness_raw_df_new = scores_to_df(fairness_raw)"
      ]
    },
    {
      "cell_type": "code",
      "execution_count": null,
      "metadata": {
        "colab": {
          "base_uri": "https://localhost:8080/",
          "height": 283
        },
        "id": "nOByFVMi813Y",
        "outputId": "080cbc49-c140-400f-f7a0-85e57330dac3"
      },
      "outputs": [
        {
          "data": {
            "image/png": "[encoded data removed]",
            "text/plain": [
              "<Figure size 432x288 with 1 Axes>"
            ]
          },
          "metadata": {
            "needs_background": "light"
          },
          "output_type": "display_data"
        }
      ],
      "source": [
        "# Plot boxplot for fairness\n",
        "bplot = sb.boxplot( \n",
        "                 data=fairness_raw_df_new, \n",
        "                 width=0.5,\n",
        "                 palette=\"flare\")\n",
        "# bplot.axes.set_title(\"Model Comparison, fairness, Original Adult Dataset\", fontsize=16)\n",
        "bplot.set_xlabel(\"C\", fontsize=14)\n",
        "bplot.set_ylabel(\"Fairness\", fontsize=14)\n",
        "bplot.tick_params(labelsize=10)\n",
        "\n",
        "# # add swarmplot\n",
        "# bplot=sb.swarmplot(data=fairness_raw_df_new, \n",
        "#               color='black',\n",
        "#               alpha=0.75)"
      ]
    },
    {
      "cell_type": "code",
      "execution_count": null,
      "metadata": {
        "id": "aKD8PcXm813Z"
      },
      "outputs": [],
      "source": [
        "#  output file name\n",
        "plot_file_name=\"boxplot_ModelComparison_fairness_OriginalAdult.png\"\n",
        " \n",
        "# save as jpeg\n",
        "bplot.figure.savefig(plot_file_name,\n",
        "                    format='jpeg',\n",
        "                    dpi=100)"
      ]
    },
    {
      "cell_type": "markdown",
      "metadata": {
        "id": "E1DCDnSgBG-i"
      },
      "source": [
        "## 1.4 Adult Dataset - Model Testing"
      ]
    },
    {
      "cell_type": "markdown",
      "metadata": {
        "id": "pHEzVpCXD8SE"
      },
      "source": [
        "### 1.4.1 Model Testing -  Accuracy, Fairness"
      ]
    },
    {
      "cell_type": "code",
      "execution_count": 63,
      "metadata": {
        "colab": {
          "base_uri": "https://localhost:8080/",
          "height": 74
        },
        "id": "lgg-eZeVtHyO",
        "outputId": "506ced96-b9fe-4a73-c8ef-2422bb1ef130"
      },
      "outputs": [
        {
          "data": {
            "text/markdown": [
              "#### Original Adult dataset"
            ],
            "text/plain": [
              "<IPython.core.display.Markdown object>"
            ]
          },
          "metadata": {},
          "output_type": "display_data"
        },
        {
          "name": "stdout",
          "output_type": "stream",
          "text": [
            "Final Accuracy Score of Model 1A for Adult Dataset = 0.806592\n"
          ]
        }
      ],
      "source": [
        "display(Markdown(\"#### Original Adult dataset\"))\n",
        "print(\"Final Accuracy Score of Model 1A for Adult Dataset = %f\" % adult_clf.accuracy(adult_x_test, adult_y_test))"
      ]
    },
    {
      "cell_type": "code",
      "execution_count": 64,
      "metadata": {
        "colab": {
          "base_uri": "https://localhost:8080/",
          "height": 74
        },
        "id": "UeW_8WowvKT_",
        "outputId": "e8905a37-96ef-49f6-e455-efc042c9acb5"
      },
      "outputs": [
        {
          "data": {
            "text/markdown": [
              "#### Original Adult dataset"
            ],
            "text/plain": [
              "<IPython.core.display.Markdown object>"
            ]
          },
          "metadata": {},
          "output_type": "display_data"
        },
        {
          "name": "stdout",
          "output_type": "stream",
          "text": [
            "Final Fairness Score of Model 2A for Adult Dataset = -0.460644\n"
          ]
        }
      ],
      "source": [
        "display(Markdown(\"#### Original Adult dataset\"))\n",
        "print(\"Final Fairness Score of Model 2A for Adult Dataset = %f\" % adult_clf.fairness_model_selection(adult_x_test, adult_y_test))"
      ]
    },
    {
      "cell_type": "markdown",
      "metadata": {
        "id": "NmGefEvKVwy2"
      },
      "source": [
        "## 1.5 German Dataset Preprocessing - Loading, Train-Test Split and Normalisation"
      ]
    },
    {
      "cell_type": "markdown",
      "metadata": {
        "id": "7aAvIoxwFVaM"
      },
      "source": [
        "Load dataset and set protected characteristics options for German dataset.\n",
        "<br></br>\n",
        "Protected features for German Dataset - Age"
      ]
    },
    {
      "cell_type": "code",
      "execution_count": 41,
      "metadata": {
        "id": "jFsjyBy2WAgC"
      },
      "outputs": [],
      "source": [
        "# Move to correct directory for german dataset"
      ]
    },
    {
      "cell_type": "code",
      "execution_count": 42,
      "metadata": {
        "colab": {
          "base_uri": "https://localhost:8080/"
        },
        "id": "j_HRfxTwv_Ko",
        "outputId": "cfda5e1f-d911-40bc-fafe-52a170d83c42"
      },
      "outputs": [
        {
          "name": "stdout",
          "output_type": "stream",
          "text": [
            "/usr/local/lib/python3.7/dist-packages/aif360/data/raw/german\n"
          ]
        }
      ],
      "source": [
        "cd /usr/local/lib/python3.7/dist-packages/aif360/data/raw/german"
      ]
    },
    {
      "cell_type": "code",
      "execution_count": 43,
      "metadata": {
        "colab": {
          "base_uri": "https://localhost:8080/"
        },
        "id": "klPUkSGevytE",
        "outputId": "be6ca257-97be-4f48-d718-24cd304ad2a4"
      },
      "outputs": [
        {
          "name": "stdout",
          "output_type": "stream",
          "text": [
            "--2022-05-14 12:57:19--  https://archive.ics.uci.edu/ml/machine-learning-databases/statlog/german/german.data\n",
            "Resolving archive.ics.uci.edu (archive.ics.uci.edu)... 128.195.10.252\n",
            "Connecting to archive.ics.uci.edu (archive.ics.uci.edu)|128.195.10.252|:443... connected.\n",
            "HTTP request sent, awaiting response... 200 OK\n",
            "Length: 79793 (78K) [application/x-httpd-php]\n",
            "Saving to: ‘german.data.1’\n",
            "\n",
            "german.data.1       100%[===================>]  77.92K   297KB/s    in 0.3s    \n",
            "\n",
            "2022-05-14 12:57:19 (297 KB/s) - ‘german.data.1’ saved [79793/79793]\n",
            "\n",
            "--2022-05-14 12:57:20--  https://archive.ics.uci.edu/ml/machine-learning-databases/statlog/german/german.doc\n",
            "Resolving archive.ics.uci.edu (archive.ics.uci.edu)... 128.195.10.252\n",
            "Connecting to archive.ics.uci.edu (archive.ics.uci.edu)|128.195.10.252|:443... connected.\n",
            "HTTP request sent, awaiting response... 200 OK\n",
            "Length: 4679 (4.6K) [application/x-httpd-php]\n",
            "Saving to: ‘german.doc.1’\n",
            "\n",
            "german.doc.1        100%[===================>]   4.57K  --.-KB/s    in 0s      \n",
            "\n",
            "2022-05-14 12:57:20 (149 MB/s) - ‘german.doc.1’ saved [4679/4679]\n",
            "\n"
          ]
        }
      ],
      "source": [
        "!wget https://archive.ics.uci.edu/ml/machine-learning-databases/statlog/german/german.data\n",
        "!wget https://archive.ics.uci.edu/ml/machine-learning-databases/statlog/german/german.doc"
      ]
    },
    {
      "cell_type": "code",
      "execution_count": 44,
      "metadata": {
        "id": "A0Gz0BJBvcRn"
      },
      "outputs": [],
      "source": [
        "initial_dataset_2 = load_preproc_data_german(['age'])"
      ]
    },
    {
      "cell_type": "code",
      "execution_count": 45,
      "metadata": {
        "id": "ZqrOMVxjD95S"
      },
      "outputs": [],
      "source": [
        "# Alt3\n",
        "# German dataset loaded in as 'initial_dataset_2'. Split between training and test set.\n",
        "# Cell must be re-rerun when switching between datasets for analyses. Priv, unpriv group assignments vital\n",
        "\n",
        "train_german, test_german = initial_dataset_2.split([0.7], shuffle=True)\n",
        "\n",
        "#Normalize the features dataset [x], both train and test.\n",
        "normalize_data = StandardScaler()\n",
        "german_x_train = normalize_data.fit_transform(train_german.features)\n",
        "german_y_train = train_german.labels.ravel()\n",
        "\n",
        "german_x_test = normalize_data.transform(test_german.features) \n",
        "german_y_test = test_german.labels.ravel()\n",
        "\n",
        "# Define protected attribute: For German Dataset [load_preproc_data_german]\n",
        "privileged_groups = [{'age': 1}] \n",
        "unprivileged_groups = [{'age': 0}]"
      ]
    },
    {
      "cell_type": "code",
      "execution_count": 46,
      "metadata": {
        "colab": {
          "base_uri": "https://localhost:8080/"
        },
        "id": "tMOXrtoTN5h2",
        "outputId": "a9b9c44c-8867-491a-c5a8-221bd04c67a6"
      },
      "outputs": [
        {
          "name": "stdout",
          "output_type": "stream",
          "text": [
            "training data size (1000, 11)\n",
            "dataset feature names ['age', 'sex', 'credit_history=Delay', 'credit_history=None/Paid', 'credit_history=Other', 'savings=500+', 'savings=<500', 'savings=Unknown/None', 'employment=1-4 years', 'employment=4+ years', 'employment=Unemployed']\n"
          ]
        }
      ],
      "source": [
        "print(\"training data size\", initial_dataset_2.features.shape)\n",
        "print(\"dataset feature names\", initial_dataset_2.feature_names)"
      ]
    },
    {
      "cell_type": "markdown",
      "metadata": {
        "id": "BrcOvGCzNA-h"
      },
      "source": [
        "## 1.6 German Dataset  - Model Selection"
      ]
    },
    {
      "cell_type": "markdown",
      "metadata": {
        "id": "aLOO3V2_NA-i"
      },
      "source": [
        "### 1.6.1 Model Selection - Accuracy, Fairness"
      ]
    },
    {
      "cell_type": "markdown",
      "metadata": {
        "id": "2h_0HHK3NA-i"
      },
      "source": [
        "Given the resuts above, a Logistic Regression model with a hyper-parameter value of **C = 1** has been selected as the best performing model, in terms of accuracy, from the model selction process."
      ]
    },
    {
      "cell_type": "code",
      "execution_count": null,
      "metadata": {
        "id": "Q4okVSfKIshi"
      },
      "outputs": [],
      "source": [
        "# Instantiate Classifier\n",
        "german_clf = LogisticClassifier(train_german, unprivileged_groups, privileged_groups)\n",
        "# train classifier\n",
        "german_clf.train(german_x_train, german_y_train, None)"
      ]
    },
    {
      "cell_type": "code",
      "execution_count": null,
      "metadata": {
        "id": "wiYNiIwuIshi"
      },
      "outputs": [],
      "source": [
        "# For original adult dataset\n",
        "# Compute fairness and accuracy over folds and over Cs\n",
        "C = [0.00001, 0.0001, 0.001, 0.01, 0.1, 1]\n",
        "fairness = []\n",
        "accuracy = []\n",
        "accuracy_raw = []\n",
        "fairness_raw = []\n",
        "\n",
        "for value in C:\n",
        "  clf = LogisticClassifier(train_german, unprivileged_groups, privileged_groups, C=value, solver=\"liblinear\", penalty=\"l2\")\n",
        "  clf.train(german_x_train, german_y_train, None)\n",
        "  fairness.append(clf.fairness_model_selection(german_x_train, german_y_train))\n",
        "  accuracy.append(clf.accuracy(german_x_train, german_y_train))\n",
        "  accuracy_raw.append(clf.accuracy_raw(german_x_train, german_y_train))\n",
        "  fairness_raw.append(clf.fairness_raw(german_x_train, german_y_train))\n",
        "    "
      ]
    },
    {
      "cell_type": "code",
      "execution_count": null,
      "metadata": {
        "colab": {
          "base_uri": "https://localhost:8080/",
          "height": 92
        },
        "id": "-Ep4tsbCIshi",
        "outputId": "a87c4715-54df-4010-d4c4-4ef21e362cbd"
      },
      "outputs": [
        {
          "data": {
            "text/markdown": [
              "#### Original German training dataset Metrics"
            ],
            "text/plain": [
              "<IPython.core.display.Markdown object>"
            ]
          },
          "metadata": {},
          "output_type": "display_data"
        },
        {
          "name": "stdout",
          "output_type": "stream",
          "text": [
            "Best C value for accuracy:  0.1 with score: 0.69\n",
            "Best C value for fairness:  1e-05 with score: -0.30230768349691095\n"
          ]
        }
      ],
      "source": [
        "display(Markdown(\"#### Original German training dataset Metrics\"))\n",
        "\n",
        "# Best Accuracy score, Fairness score and corresponding Cs\n",
        "german_accuracy_comparison = dict(zip(C, accuracy))\n",
        "best_C_acc = max(german_accuracy_comparison, key=lambda key: german_accuracy_comparison[key])\n",
        "german_fairness_comparison = dict(zip(C, fairness))\n",
        "best_C_fair = max(german_fairness_comparison, key=lambda key: german_fairness_comparison[key])\n",
        "print(\"Best C value for accuracy: \", best_C_acc, \"with score:\", german_accuracy_comparison[best_C_acc])\n",
        "print(\"Best C value for fairness: \", best_C_fair, \"with score:\", german_fairness_comparison[best_C_fair])"
      ]
    },
    {
      "cell_type": "markdown",
      "metadata": {
        "id": "FxXLRuWYTy2O"
      },
      "source": [
        "### 1.6.2 Observations and plots"
      ]
    },
    {
      "cell_type": "markdown",
      "metadata": {
        "id": "3oPmk8axTy2O"
      },
      "source": [
        "Given the resuts above, a Logistic Regression model with a hyper-parameter value of **C = 0.01** has been selected as the best performing model, in terms of accuracy, from the model selction process.\n",
        "<br></br>\n",
        "The best model in terms of fairness however is a Logistic regression model for which **C = 0.001**."
      ]
    },
    {
      "cell_type": "code",
      "execution_count": null,
      "metadata": {
        "id": "M5fjD-OzTy2P"
      },
      "outputs": [],
      "source": [
        "accuracy_raw_df_new = scores_to_df(accuracy_raw)"
      ]
    },
    {
      "cell_type": "code",
      "execution_count": null,
      "metadata": {
        "colab": {
          "base_uri": "https://localhost:8080/",
          "height": 283
        },
        "id": "DHNp2jodTy2P",
        "outputId": "ea68d834-ac57-4f00-a623-bc1532725789"
      },
      "outputs": [
        {
          "data": {
            "image/png": "[encoded data removed]",
            "text/plain": [
              "<Figure size 432x288 with 1 Axes>"
            ]
          },
          "metadata": {
            "needs_background": "light"
          },
          "output_type": "display_data"
        }
      ],
      "source": [
        "# Plot boxplot for Accuracy\n",
        "bplot = sb.boxplot( \n",
        "                 data=accuracy_raw_df_new, \n",
        "                 width=0.5,\n",
        "                 palette=\"crest\")\n",
        "# bplot.axes.set_title(\"Model Comparison, accuracy, Original Adult Dataset\", fontsize=16)\n",
        "bplot.set_xlabel(\"C\", fontsize=14)\n",
        "bplot.set_ylabel(\"Accuracy\", fontsize=14)\n",
        "bplot.tick_params(labelsize=10)\n",
        "\n",
        "# # add swarmplot\n",
        "# bplot=sb.swarmplot(data=accuracy_raw_df_new, \n",
        "#               color='black',\n",
        "#               alpha=0.75)"
      ]
    },
    {
      "cell_type": "code",
      "execution_count": null,
      "metadata": {
        "id": "hgq8BV89Ty2P"
      },
      "outputs": [],
      "source": [
        "#  output file name\n",
        "plot_file_name=\"boxplot_ModelComparison_accuracy_OriginalGerman.jpg\"\n",
        " \n",
        "# save as jpeg\n",
        "bplot.figure.savefig(plot_file_name,\n",
        "                    format='jpeg',\n",
        "                    dpi=100)"
      ]
    },
    {
      "cell_type": "markdown",
      "metadata": {
        "id": "pzQBQVoYzT6E"
      },
      "source": [
        "## 1.7 German Dataset - Model Testing"
      ]
    },
    {
      "cell_type": "code",
      "execution_count": null,
      "metadata": {
        "colab": {
          "base_uri": "https://localhost:8080/",
          "height": 74
        },
        "id": "dCaYPCqMufcn",
        "outputId": "85fbf5d7-501c-48e7-b854-0596775d2bae"
      },
      "outputs": [
        {
          "data": {
            "text/markdown": [
              "#### Original German dataset"
            ],
            "text/plain": [
              "<IPython.core.display.Markdown object>"
            ]
          },
          "metadata": {},
          "output_type": "display_data"
        },
        {
          "name": "stdout",
          "output_type": "stream",
          "text": [
            "Final Accuracy Score of Model 1G for German Dataset = 0.720000\n"
          ]
        }
      ],
      "source": [
        "display(Markdown(\"#### Original German dataset\"))\n",
        "print(\"Final Accuracy Score of Model 1G for German Dataset = %f\" % german_clf.accuracy(german_x_test, german_y_test))"
      ]
    },
    {
      "cell_type": "code",
      "execution_count": null,
      "metadata": {
        "colab": {
          "base_uri": "https://localhost:8080/",
          "height": 74
        },
        "id": "JTKbb2mUu0Xk",
        "outputId": "c3f1fae3-ddaa-4414-b1fc-52d73bb77d26"
      },
      "outputs": [
        {
          "data": {
            "text/markdown": [
              "#### Original German dataset"
            ],
            "text/plain": [
              "<IPython.core.display.Markdown object>"
            ]
          },
          "metadata": {},
          "output_type": "display_data"
        },
        {
          "name": "stdout",
          "output_type": "stream",
          "text": [
            "Final Fairness Score of Model 2G for German Dataset = -0.520145\n"
          ]
        }
      ],
      "source": [
        "display(Markdown(\"#### Original German dataset\"))\n",
        "print(\"Final Fairness Score of Model 2G for German Dataset = %f\" % german_clf.fairness_model_selection(german_x_test, german_y_test))"
      ]
    },
    {
      "cell_type": "markdown",
      "metadata": {
        "id": "QSIEtBYPOb03"
      },
      "source": [
        "# Task 2: Modification and Evaluation of modified Datasets as in Task 1"
      ]
    },
    {
      "cell_type": "markdown",
      "metadata": {
        "id": "zR55p4IVlIkL"
      },
      "source": [
        "The two datasets examined in section 1 are now de-biased using the reweighing pre-processing algorithm."
      ]
    },
    {
      "cell_type": "markdown",
      "metadata": {
        "id": "JGsDhtE7EbVN"
      },
      "source": [
        "## 2.1 Reweighing of Datasets "
      ]
    },
    {
      "cell_type": "markdown",
      "metadata": {
        "id": "CPCUfRql251y"
      },
      "source": [
        "This notebook demonstrates the use of a reweighing pre-processing algorithm for bias mitigation"
      ]
    },
    {
      "cell_type": "markdown",
      "metadata": {
        "id": "ZhqHs3-4PGQL"
      },
      "source": [
        "Using the reweighing pre-processing algorithm, the datasets are transformed."
      ]
    },
    {
      "cell_type": "code",
      "execution_count": null,
      "metadata": {
        "colab": {
          "base_uri": "https://localhost:8080/"
        },
        "id": "QbcSpKG2PGZd",
        "outputId": "17923b66-ceca-4700-a14b-968fdfe519f9"
      },
      "outputs": [
        {
          "name": "stdout",
          "output_type": "stream",
          "text": [
            "German RW Dataset - subgroup weights:  [0.69114754 0.95382353 1.12076923 1.2512    ]\n"
          ]
        }
      ],
      "source": [
        "# Mitigate the bias via reweighing.\n",
        "# Use the fit method like a classifier, use the generated instance weights in the training phase in subsequent step.\n",
        "# switch back working directory for adult dataset \n",
        "# do german first because it is active dataset\n",
        "\n",
        "# Dataset 2- German\n",
        "# also redefine privileged and unprivileged groupings -\n",
        "privileged_groups = [{'age': 1}]\n",
        "unprivileged_groups = [{'age': 0}]\n",
        "RW = Reweighing(unprivileged_groups=unprivileged_groups, privileged_groups=privileged_groups)\n",
        "#obtain weights for the training set\n",
        "reweighed_train_german = RW.fit_transform(train_german)\n",
        "print(\"German RW Dataset - subgroup weights: \", np.unique(reweighed_train_german.instance_weights))\n",
        "\n"
      ]
    },
    {
      "cell_type": "code",
      "execution_count": null,
      "metadata": {
        "colab": {
          "base_uri": "https://localhost:8080/"
        },
        "id": "ws3IqR66dKZI",
        "outputId": "9a97f733-0dbe-4588-8867-5e29dd3dc665"
      },
      "outputs": [
        {
          "name": "stdout",
          "output_type": "stream",
          "text": [
            "Adult RW Dataset - subgroup weights:  [0.78891423 0.85484319 1.09181847 2.17512888]\n"
          ]
        }
      ],
      "source": [
        "# Dataset 1 - Adult\n",
        "# Define protected attribute: For Adult Dataset [load_preproc_data_adult]\n",
        "# also redefine privileged and unprivileged groupings -\n",
        "privileged_groups = [{'sex': 1}]\n",
        "unprivileged_groups = [{'sex': 0}]\n",
        "\n",
        "RW = Reweighing(unprivileged_groups=unprivileged_groups, privileged_groups=privileged_groups)\n",
        "#obtain weights for the training set\n",
        "reweighed_train_adult = RW.fit_transform(train_adult)\n",
        "\n",
        "print(\"Adult RW Dataset - subgroup weights: \", np.unique(reweighed_train_adult.instance_weights))\n"
      ]
    },
    {
      "cell_type": "markdown",
      "metadata": {
        "id": "ccBD1tD2O4UC"
      },
      "source": [
        "## 2.2 Adult Dataset (Reweighed) - Model Selection"
      ]
    },
    {
      "cell_type": "markdown",
      "metadata": {
        "id": "z1hRfWi0f3zG"
      },
      "source": [
        "### 2.3.2 Model Selection - Accuracy, Fairness"
      ]
    },
    {
      "cell_type": "markdown",
      "metadata": {
        "id": "-2Qh2s3kf3zG"
      },
      "source": [
        "Equality of opportunity is the fairness metric of choice. We compute the diffference in TPR between both groups, defined by the protected attribute.\n",
        "<br> </br> \n",
        "The c values tested were: 1.0, 0.1, 0.01, 0.001 and 0.0001."
      ]
    },
    {
      "cell_type": "code",
      "execution_count": null,
      "metadata": {
        "id": "iS1600Owf3zH"
      },
      "outputs": [],
      "source": [
        "# Instantiate a Classifier\n",
        "adult_clf_rw = LogisticClassifier(reweighed_train_adult, unprivileged_groups, privileged_groups)\n",
        "# train classifier\n",
        "adult_clf_rw.train(adult_x_train, adult_y_train, reweighed_train_adult.instance_weights)"
      ]
    },
    {
      "cell_type": "code",
      "execution_count": null,
      "metadata": {
        "id": "vIKOh1Egf3zH"
      },
      "outputs": [],
      "source": [
        "# For reweighed adult dataset\n",
        "# Compute fairness and accuracy over folds and over Cs\n",
        "C = [0.00001, 0.0001, 0.001, 0.01, 0.1, 1]\n",
        "fairness = []\n",
        "accuracy = []\n",
        "accuracy_raw = []\n",
        "fairness_raw = []\n",
        "for value in C:\n",
        "  clf = LogisticClassifier(reweighed_train_adult, unprivileged_groups, privileged_groups, C=value, solver=\"liblinear\", penalty=\"l2\")\n",
        "  clf.train(adult_x_train, adult_y_train, fit_params=reweighed_train_adult.instance_weights)\n",
        "  fairness.append(clf.fairness_model_selection(adult_x_train, adult_y_train))\n",
        "  accuracy.append(clf.accuracy(adult_x_train, adult_y_train))\n",
        "  accuracy_raw.append(clf.accuracy_raw(adult_x_train, adult_y_train))\n",
        "  fairness_raw.append(clf.fairness_raw(adult_x_train, adult_y_train))"
      ]
    },
    {
      "cell_type": "code",
      "execution_count": null,
      "metadata": {
        "colab": {
          "base_uri": "https://localhost:8080/",
          "height": 92
        },
        "id": "jKx9r6B0f3zH",
        "outputId": "10aa60b9-2880-4b41-91b6-f63808301dea"
      },
      "outputs": [
        {
          "data": {
            "text/markdown": [
              "#### Reweighed Adult training dataset Metrics"
            ],
            "text/plain": [
              "<IPython.core.display.Markdown object>"
            ]
          },
          "metadata": {},
          "output_type": "display_data"
        },
        {
          "name": "stdout",
          "output_type": "stream",
          "text": [
            "Best C value for accuracy:  0.1 with score: 0.8032701262503206\n",
            "Best C value for fairness:  0.01 with score: -0.012607869286405981\n"
          ]
        }
      ],
      "source": [
        "display(Markdown(\"#### Reweighed Adult training dataset Metrics\"))\n",
        "\n",
        "# Best Accuracy score, Fairness score and corresponding Cs\n",
        "adult_accuracy_comparison = dict(zip(C, accuracy))\n",
        "best_C_acc = max(adult_accuracy_comparison, key=lambda key: adult_accuracy_comparison[key])\n",
        "adult_fairness_comparison = dict(zip(C, fairness))\n",
        "best_C_fair = max(adult_fairness_comparison, key=lambda key: adult_fairness_comparison[key])\n",
        "print(\"Best C value for accuracy: \", best_C_acc, \"with score:\", adult_accuracy_comparison[best_C_acc])\n",
        "print(\"Best C value for fairness: \", best_C_fair, \"with score:\", adult_fairness_comparison[best_C_fair])"
      ]
    },
    {
      "cell_type": "markdown",
      "metadata": {
        "id": "oZj7LP_L9vXy"
      },
      "source": [
        "### 2.2.2 Observations and plots"
      ]
    },
    {
      "cell_type": "markdown",
      "metadata": {
        "id": "YgJHTRFu9vX2"
      },
      "source": [
        "Given the results above, using the reweighed Adult dataset, a Logistic Regression model with a hyper-parameter value of **C = 0.1** has been selected as the best performing model, in terms of accuracy, from the model selection process. It achieves a score of 0.803.\n",
        "<br></br>\n",
        "The best model in terms of fairness however is a Logistic regression model for which **C = 0.01**. THis achieves a fairness score very close to zero at -0.01.\n"
      ]
    },
    {
      "cell_type": "code",
      "execution_count": null,
      "metadata": {
        "id": "uEtSizUD9vX4"
      },
      "outputs": [],
      "source": [
        "accuracy_raw_df_new = scores_to_df(accuracy_raw)"
      ]
    },
    {
      "cell_type": "code",
      "execution_count": null,
      "metadata": {
        "colab": {
          "base_uri": "https://localhost:8080/",
          "height": 283
        },
        "id": "hJcM7-QX9vX5",
        "outputId": "1a268e23-52a7-4ed2-fd98-e6cbbb814389"
      },
      "outputs": [
        {
          "data": {
            "image/png": "[encoded data removed]",
            "text/plain": [
              "<Figure size 432x288 with 1 Axes>"
            ]
          },
          "metadata": {
            "needs_background": "light"
          },
          "output_type": "display_data"
        }
      ],
      "source": [
        "# Plot boxplot for Accuracy\n",
        "bplot = sb.boxplot( \n",
        "                 data=accuracy_raw_df_new, \n",
        "                 width=0.5,\n",
        "                 palette=\"crest\")\n",
        "# bplot.axes.set_title(\"Model Comparison, accuracy, Original Adult Dataset\", fontsize=16)\n",
        "bplot.set_xlabel(\"C\", fontsize=14)\n",
        "bplot.set_ylabel(\"Accuracy\", fontsize=14)\n",
        "bplot.tick_params(labelsize=10)\n",
        "\n",
        "# # add swarmplot\n",
        "# bplot=sb.swarmplot(data=accuracy_raw_df_new, \n",
        "#               color='black',\n",
        "#               alpha=0.75)"
      ]
    },
    {
      "cell_type": "code",
      "execution_count": null,
      "metadata": {
        "id": "kE48r7aU9vX5"
      },
      "outputs": [],
      "source": [
        "#  output file name\n",
        "plot_file_name=\"boxplot_ModelComparison_accuracy_OriginalAdult.jpg\"\n",
        " \n",
        "# save as jpeg\n",
        "bplot.figure.savefig(plot_file_name,\n",
        "                    format='jpeg',\n",
        "                    dpi=100)"
      ]
    },
    {
      "cell_type": "code",
      "execution_count": null,
      "metadata": {
        "id": "ZE2A3phh1K7v"
      },
      "outputs": [],
      "source": [
        "fairness_raw_df_new = scores_to_df(fairness_raw)"
      ]
    },
    {
      "cell_type": "code",
      "execution_count": null,
      "metadata": {
        "colab": {
          "base_uri": "https://localhost:8080/",
          "height": 283
        },
        "id": "FI5uZOkV1K72",
        "outputId": "919bed57-ab2b-42e3-92f4-cb62483f177a"
      },
      "outputs": [
        {
          "data": {
            "image/png": "[encoded data removed]",
            "text/plain": [
              "<Figure size 432x288 with 1 Axes>"
            ]
          },
          "metadata": {
            "needs_background": "light"
          },
          "output_type": "display_data"
        }
      ],
      "source": [
        "# Plot boxplot for Accuracy\n",
        "bplot = sb.boxplot( \n",
        "                 data=fairness_raw_df_new, \n",
        "                 width=0.5,\n",
        "                 palette=\"flare\")\n",
        "# bplot.axes.set_title(\"Model Comparison, accuracy, Original Adult Dataset\", fontsize=16)\n",
        "bplot.set_xlabel(\"C\", fontsize=14)\n",
        "bplot.set_ylabel(\"Fairness\", fontsize=14)\n",
        "bplot.tick_params(labelsize=10)\n",
        "\n",
        "# # add swarmplot\n",
        "# bplot=sb.swarmplot(data=accuracy_raw_df_new, \n",
        "#               color='black',\n",
        "#               alpha=0.75)"
      ]
    },
    {
      "cell_type": "code",
      "execution_count": null,
      "metadata": {
        "id": "cH1TEfct1K74"
      },
      "outputs": [],
      "source": [
        "#  output file name\n",
        "plot_file_name=\"boxplot_ModelComparison_fairness_ReweighedAdult.jpg\"\n",
        " \n",
        "# save as jpeg\n",
        "bplot.figure.savefig(plot_file_name,\n",
        "                    format='jpeg',\n",
        "                    dpi=100)"
      ]
    },
    {
      "cell_type": "markdown",
      "metadata": {
        "id": "s0C3GjZc-iGS"
      },
      "source": [
        "## 2.3 Adult Dataset (Reweighed) - Model Testing"
      ]
    },
    {
      "cell_type": "code",
      "execution_count": null,
      "metadata": {
        "colab": {
          "base_uri": "https://localhost:8080/",
          "height": 74
        },
        "id": "ovVgZ5Jr-iGS",
        "outputId": "dc43033a-2310-4c43-8415-33bdeb6fe756"
      },
      "outputs": [
        {
          "data": {
            "text/markdown": [
              "#### Reweighed Adult dataset"
            ],
            "text/plain": [
              "<IPython.core.display.Markdown object>"
            ]
          },
          "metadata": {},
          "output_type": "display_data"
        },
        {
          "name": "stdout",
          "output_type": "stream",
          "text": [
            "Final Accuracy Score of Model 3A for Adult Dataset = 0.806729\n"
          ]
        }
      ],
      "source": [
        "display(Markdown(\"#### Reweighed Adult dataset\"))\n",
        "print(\"Final Accuracy Score of Model 3A for Adult Dataset = %f\" % adult_clf_rw.accuracy(adult_x_test, adult_y_test))"
      ]
    },
    {
      "cell_type": "code",
      "execution_count": null,
      "metadata": {
        "colab": {
          "base_uri": "https://localhost:8080/",
          "height": 74
        },
        "id": "csoWpKJ4-iGS",
        "outputId": "b47eface-56e6-4df0-de5b-e72331364b04"
      },
      "outputs": [
        {
          "data": {
            "text/markdown": [
              "#### Reweighed Adult dataset"
            ],
            "text/plain": [
              "<IPython.core.display.Markdown object>"
            ]
          },
          "metadata": {},
          "output_type": "display_data"
        },
        {
          "name": "stdout",
          "output_type": "stream",
          "text": [
            "Final Fairness Score of Model 4A for Adult Dataset = -0.021457\n"
          ]
        }
      ],
      "source": [
        "display(Markdown(\"#### Reweighed Adult dataset\"))\n",
        "print(\"Final Fairness Score of Model 4A for Adult Dataset = %f\" % adult_clf_rw.fairness_model_selection(adult_x_test, adult_y_test))"
      ]
    },
    {
      "cell_type": "markdown",
      "metadata": {
        "id": "dd82S9emIEJf"
      },
      "source": [
        "## 2.4 German Dataset (Reweighed)  - Model Selection"
      ]
    },
    {
      "cell_type": "markdown",
      "metadata": {
        "id": "ElHQQ0YAIEJq"
      },
      "source": [
        "### 2.4.1 Model Selection - Accuracy, Fairness"
      ]
    },
    {
      "cell_type": "markdown",
      "metadata": {
        "id": "qLb-6KfbIEJq"
      },
      "source": [
        "Given the resuts above, a Logistic Regression model with a hyper-parameter value of **C = 1** has been selected as the best performing model, in terms of accuracy, from the model selction process."
      ]
    },
    {
      "cell_type": "code",
      "execution_count": null,
      "metadata": {
        "id": "xp4yrEnBIEJr"
      },
      "outputs": [],
      "source": [
        "# Instantiate Classifier\n",
        "german_clf_rw = LogisticClassifier(reweighed_train_german, unprivileged_groups, privileged_groups)\n",
        "# train classifier\n",
        "german_clf_rw.train(german_x_train, german_y_train, reweighed_train_german.instance_weights)\n"
      ]
    },
    {
      "cell_type": "code",
      "execution_count": null,
      "metadata": {
        "id": "IPO2QDDQIEJw"
      },
      "outputs": [],
      "source": [
        "# For reweighed german dataset\n",
        "# Compute fairness and accuracy over folds and over Cs\n",
        "C = [0.00001, 0.0001, 0.001, 0.01, 0.1, 1]\n",
        "fairness = []\n",
        "accuracy = []\n",
        "accuracy_raw = []\n",
        "fairness_raw = []\n",
        "\n",
        "for value in C:\n",
        "  clf = LogisticClassifier(reweighed_train_german, unprivileged_groups, privileged_groups, C=value, solver=\"liblinear\", penalty=\"l2\")\n",
        "  clf.train(german_x_train, german_y_train, fit_params=reweighed_train_german.instance_weights)\n",
        "  fairness.append(clf.fairness_model_selection(german_x_train, german_y_train))\n",
        "  accuracy.append(clf.accuracy(german_x_train, german_y_train))\n",
        "  accuracy_raw.append(clf.accuracy_raw(german_x_train, german_y_train))\n",
        "  fairness_raw.append(clf.fairness_raw(german_x_train, german_y_train))\n",
        "    "
      ]
    },
    {
      "cell_type": "code",
      "execution_count": null,
      "metadata": {
        "colab": {
          "base_uri": "https://localhost:8080/",
          "height": 92
        },
        "id": "69ddFl9yIEJw",
        "outputId": "490ee6ac-8d33-443b-a139-729e121c0894"
      },
      "outputs": [
        {
          "data": {
            "text/markdown": [
              "#### Reweighed German training dataset Metrics"
            ],
            "text/plain": [
              "<IPython.core.display.Markdown object>"
            ]
          },
          "metadata": {},
          "output_type": "display_data"
        },
        {
          "name": "stdout",
          "output_type": "stream",
          "text": [
            "Best C value for accuracy:  0.01 with score: 0.69\n",
            "Best C value for fairness:  0.01 with score: 0.04842538163590802\n"
          ]
        }
      ],
      "source": [
        "display(Markdown(\"#### Reweighed German training dataset Metrics\"))\n",
        "\n",
        "# Best Accuracy score, Fairness score and corresponding Cs\n",
        "german_accuracy_comparison = dict(zip(C, accuracy))\n",
        "best_C_acc = max(german_accuracy_comparison, key=lambda key: german_accuracy_comparison[key])\n",
        "german_fairness_comparison = dict(zip(C, fairness))\n",
        "best_C_fair = max(german_fairness_comparison, key=lambda key: german_fairness_comparison[key])\n",
        "print(\"Best C value for accuracy: \", best_C_acc, \"with score:\", german_accuracy_comparison[best_C_acc])\n",
        "print(\"Best C value for fairness: \", best_C_fair, \"with score:\", german_fairness_comparison[best_C_fair])"
      ]
    },
    {
      "cell_type": "markdown",
      "metadata": {
        "id": "NjlABuiAIEJy"
      },
      "source": [
        "### 2.4.2 Observations and plots"
      ]
    },
    {
      "cell_type": "markdown",
      "metadata": {
        "id": "9APACwogIEJz"
      },
      "source": [
        "Given the resuts above, a Logistic Regression model with a hyper-parameter value of **C = 0.01** has been selected as the best performing model, in terms of both accuracy and fairness, from the model selction process.\n",
        "<br></br>\n",
        "The scores at **C = 0.001** are 0.69 for accuracy and 0.04 for fairness."
      ]
    },
    {
      "cell_type": "code",
      "execution_count": null,
      "metadata": {
        "id": "z-mHK8W_IEJ0"
      },
      "outputs": [],
      "source": [
        "accuracy_raw_df_new = scores_to_df(accuracy_raw)"
      ]
    },
    {
      "cell_type": "code",
      "execution_count": null,
      "metadata": {
        "colab": {
          "base_uri": "https://localhost:8080/",
          "height": 285
        },
        "id": "KoxID8h2IEJ1",
        "outputId": "6dc71c60-db1b-4bd6-e985-aeb10893bf75"
      },
      "outputs": [
        {
          "data": {
            "image/png": "[encoded data removed]",
            "text/plain": [
              "<Figure size 432x288 with 1 Axes>"
            ]
          },
          "metadata": {
            "needs_background": "light"
          },
          "output_type": "display_data"
        }
      ],
      "source": [
        "# Plot boxplot for Accuracy\n",
        "bplot = sb.boxplot( \n",
        "                 data=accuracy_raw_df_new, \n",
        "                 width=0.5,\n",
        "                 palette=\"crest\")\n",
        "# bplot.axes.set_title(\"Model Comparison, accuracy, Reweighed German Dataset\", fontsize=16)\n",
        "bplot.set_xlabel(\"C\", fontsize=14)\n",
        "bplot.set_ylabel(\"Accuracy\", fontsize=14)\n",
        "bplot.tick_params(labelsize=10)\n",
        "\n",
        "# # add swarmplot\n",
        "# bplot=sb.swarmplot(data=accuracy_raw_df_new, \n",
        "#               color='black',\n",
        "#               alpha=0.75)"
      ]
    },
    {
      "cell_type": "code",
      "execution_count": null,
      "metadata": {
        "id": "QgVDC8V5IEJ1"
      },
      "outputs": [],
      "source": [
        "#  output file name\n",
        "plot_file_name=\"boxplot_ModelComparison_accuracy_OriginalGerman.jpg\"\n",
        " \n",
        "# save as jpeg\n",
        "bplot.figure.savefig(plot_file_name,\n",
        "                    format='jpeg',\n",
        "                    dpi=100)"
      ]
    },
    {
      "cell_type": "markdown",
      "metadata": {
        "id": "5CprLRVN2PpW"
      },
      "source": [
        "Fairness\n"
      ]
    },
    {
      "cell_type": "code",
      "execution_count": null,
      "metadata": {
        "id": "hSrFWYQD2SOC"
      },
      "outputs": [],
      "source": [
        "#  output file name\n",
        "plot_file_name=\"boxplot_ModelComparison_accuracy_OriginalAdult.jpg\"\n",
        " \n",
        "# save as jpeg\n",
        "bplot.figure.savefig(plot_file_name,\n",
        "                    format='jpeg',\n",
        "                    dpi=100)"
      ]
    },
    {
      "cell_type": "code",
      "execution_count": null,
      "metadata": {
        "id": "kn6rxnvQ2SOE"
      },
      "outputs": [],
      "source": [
        "fairness_raw_df_new = scores_to_df(fairness_raw)"
      ]
    },
    {
      "cell_type": "code",
      "execution_count": null,
      "metadata": {
        "colab": {
          "base_uri": "https://localhost:8080/",
          "height": 283
        },
        "id": "CSNYhPL42SOE",
        "outputId": "b8322951-caaf-4abb-c16f-9839fab5e791"
      },
      "outputs": [
        {
          "data": {
            "image/png": "[encoded data removed]",
            "text/plain": [
              "<Figure size 432x288 with 1 Axes>"
            ]
          },
          "metadata": {
            "needs_background": "light"
          },
          "output_type": "display_data"
        }
      ],
      "source": [
        "# Plot boxplot for Fairness\n",
        "bplot = sb.boxplot( \n",
        "                 data=fairness_raw_df_new, \n",
        "                 width=0.5,\n",
        "                 palette=\"flare\")\n",
        "# bplot.axes.set_title(\"Model Comparison, Fairness, Reweighed German Dataset\", fontsize=16)\n",
        "bplot.set_xlabel(\"C\", fontsize=14)\n",
        "bplot.set_ylabel(\"Fairness\", fontsize=14)\n",
        "bplot.tick_params(labelsize=10)\n",
        "\n",
        "# # add swarmplot\n",
        "# bplot=sb.swarmplot(data=Fairness_raw_df_new, \n",
        "#               color='black',\n",
        "#               alpha=0.75)"
      ]
    },
    {
      "cell_type": "code",
      "execution_count": null,
      "metadata": {
        "id": "2isof83Z2SOJ"
      },
      "outputs": [],
      "source": [
        "#  output file name\n",
        "plot_file_name=\"boxplot_ModelComparison_fairness_ReweighedGerman.png\"\n",
        " \n",
        "# save as jpeg\n",
        "bplot.figure.savefig(plot_file_name,\n",
        "                    format='jpeg',\n",
        "                    dpi=100)"
      ]
    },
    {
      "cell_type": "markdown",
      "metadata": {
        "id": "Y8fBNuQhIEJ1"
      },
      "source": [
        "## 2.5 German Dataset (Reweighed) - Model Testing"
      ]
    },
    {
      "cell_type": "code",
      "execution_count": null,
      "metadata": {
        "colab": {
          "base_uri": "https://localhost:8080/",
          "height": 74
        },
        "id": "Visu183GIEJ1",
        "outputId": "0eecea3c-2479-44be-a5cd-f2e6452cf00b"
      },
      "outputs": [
        {
          "data": {
            "text/markdown": [
              "#### Original German dataset"
            ],
            "text/plain": [
              "<IPython.core.display.Markdown object>"
            ]
          },
          "metadata": {},
          "output_type": "display_data"
        },
        {
          "name": "stdout",
          "output_type": "stream",
          "text": [
            "Final Accuracy Score of Model 3G for German Dataset = 0.736667\n"
          ]
        }
      ],
      "source": [
        "display(Markdown(\"#### Original German dataset\"))\n",
        "print(\"Final Accuracy Score of Model 3G for German Dataset = %f\" % german_clf.accuracy(german_x_test, german_y_test))"
      ]
    },
    {
      "cell_type": "code",
      "execution_count": null,
      "metadata": {
        "colab": {
          "base_uri": "https://localhost:8080/",
          "height": 74
        },
        "id": "efBYH4wsIEJ2",
        "outputId": "8620e0a3-8f53-4914-e268-425442a287bd"
      },
      "outputs": [
        {
          "data": {
            "text/markdown": [
              "#### Original German dataset"
            ],
            "text/plain": [
              "<IPython.core.display.Markdown object>"
            ]
          },
          "metadata": {},
          "output_type": "display_data"
        },
        {
          "name": "stdout",
          "output_type": "stream",
          "text": [
            "Final Fairness Score of Model 4G for German Dataset = 0.019726\n"
          ]
        }
      ],
      "source": [
        "display(Markdown(\"#### Original German dataset\"))\n",
        "print(\"Final Fairness Score of Model 4G for German Dataset = %f\" % german_clf_rw.fairness_model_selection(german_x_test, german_y_test))"
      ]
    },
    {
      "cell_type": "markdown",
      "metadata": {
        "id": "XjSgUOuzjiux"
      },
      "source": [
        "## 3.1 Evaluating a blended Fairness-Accuracy Metric"
      ]
    },
    {
      "cell_type": "markdown",
      "metadata": {
        "id": "QKBFB7BMfmHs"
      },
      "source": [
        "Custom Metric which balances fairness and accuracy"
      ]
    },
    {
      "cell_type": "markdown",
      "metadata": {
        "id": "gX4Jz2zad8Ix"
      },
      "source": [
        "## 3.1.1 Adult Dataset"
      ]
    },
    {
      "cell_type": "code",
      "execution_count": 12,
      "metadata": {
        "id": "NARaAuOuRQhg"
      },
      "outputs": [],
      "source": [
        "# Instantiate Classifier\n",
        "adult_clf_diff = LogisticClassifier(train_adult, unprivileged_groups, privileged_groups)\n",
        "# train classifier\n",
        "adult_clf_diff.train(adult_x_train, adult_y_train,None)"
      ]
    },
    {
      "cell_type": "markdown",
      "metadata": {
        "id": "YlL5qy8ifcMD"
      },
      "source": [
        "Train Adult"
      ]
    },
    {
      "cell_type": "code",
      "execution_count": 16,
      "metadata": {
        "id": "BJ2IVdmLRQhh"
      },
      "outputs": [],
      "source": [
        "# For original adult dataset\n",
        "# Compute fairdiff and accuracy over folds and over Cs\n",
        "C = [0.00001, 0.0001, 0.001, 0.01, 0.1, 1]\n",
        "fairdiff = []\n",
        "fairdiff_scores = []\n",
        "\n",
        "for value in C:\n",
        "  clf = LogisticClassifier(train_adult, unprivileged_groups, privileged_groups, C=value, solver=\"liblinear\", penalty=\"l2\")\n",
        "  clf.train(adult_x_train, adult_y_train,None)\n",
        "  mean, scores = clf.accuracy_fairness_score(adult_x_train, adult_y_train)                                                               \n",
        "  fairdiff.append(mean)\n",
        "  fairdiff_scores.append(scores)"
      ]
    },
    {
      "cell_type": "code",
      "execution_count": 17,
      "metadata": {
        "id": "EWun_gvsgloP"
      },
      "outputs": [],
      "source": [
        "fairdiff_new = scores_to_df(fairdiff_scores)"
      ]
    },
    {
      "cell_type": "code",
      "execution_count": 24,
      "metadata": {
        "colab": {
          "base_uri": "https://localhost:8080/",
          "height": 287
        },
        "id": "QpHR9xFXgloS",
        "outputId": "41f07207-23d1-4c74-ed68-897cd0fc5fa6"
      },
      "outputs": [
        {
          "data": {
            "image/png": "[encoded data removed]",
            "text/plain": [
              "<Figure size 432x288 with 1 Axes>"
            ]
          },
          "metadata": {
            "needs_background": "light"
          },
          "output_type": "display_data"
        }
      ],
      "source": [
        "# Plot boxplot for Accuracy\n",
        "bplot = sb.boxplot( \n",
        "                 data=fairdiff_new, \n",
        "                 width=0.5,\n",
        "                 palette=\"cubehelix\")\n",
        "# bplot.axes.set_title(\"Model Comparison, FairAccuracy, Original Adult Dataset\", fontsize=16)\n",
        "bplot.set_xlabel(\"C\", fontsize=14)\n",
        "bplot.set_ylabel(\"FairAccuracy\", fontsize=14)\n",
        "bplot.tick_params(labelsize=10)\n",
        "\n",
        "# # add swarmplot\n",
        "# bplot=sb.swarmplot(data=accuracy_raw_df_new, \n",
        "#               color='black',\n",
        "#               alpha=0.75)"
      ]
    },
    {
      "cell_type": "markdown",
      "metadata": {
        "id": "639HodyUhCNk"
      },
      "source": [
        "Testing - Adult"
      ]
    },
    {
      "cell_type": "code",
      "execution_count": 19,
      "metadata": {
        "colab": {
          "base_uri": "https://localhost:8080/",
          "height": 74
        },
        "id": "jHCiRjMYgloS",
        "outputId": "b06d41dc-31d8-4178-fcf5-e69c8ac2feb1"
      },
      "outputs": [
        {
          "data": {
            "text/markdown": [
              "#### Original Adult dataset"
            ],
            "text/plain": [
              "<IPython.core.display.Markdown object>"
            ]
          },
          "metadata": {},
          "output_type": "display_data"
        },
        {
          "name": "stdout",
          "output_type": "stream",
          "text": [
            "Final Accuracy Score of Model 5A for Adult Dataset = 0.803521\n"
          ]
        }
      ],
      "source": [
        "display(Markdown(\"#### Original Adult dataset\"))\n",
        "print(\"Final Accuracy Score of Model 5A for Adult Dataset = %f\" % adult_clf_diff.accuracy(adult_x_test, adult_y_test))"
      ]
    },
    {
      "cell_type": "markdown",
      "metadata": {
        "id": "D0AT1YsbkCpC"
      },
      "source": [
        "## 3.1.1 German Dataset"
      ]
    },
    {
      "cell_type": "code",
      "execution_count": 31,
      "metadata": {
        "id": "EiY7_ea5kCpD"
      },
      "outputs": [],
      "source": [
        "# Instantiate Classifier\n",
        "german_clf_diff = LogisticClassifier(train_german, unprivileged_groups, privileged_groups)\n",
        "# train classifier\n",
        "german_clf_diff.train(german_x_train, german_y_train,None)"
      ]
    },
    {
      "cell_type": "markdown",
      "metadata": {
        "id": "qxJOAOW6kCpD"
      },
      "source": [
        "Train German"
      ]
    },
    {
      "cell_type": "code",
      "execution_count": 32,
      "metadata": {
        "id": "gm-R5WRukCpD"
      },
      "outputs": [],
      "source": [
        "# For original german dataset\n",
        "# Compute fairdiff and accuracy over folds and over Cs\n",
        "C = [0.00001, 0.0001, 0.001, 0.01, 0.1, 1]\n",
        "fairdiff = []\n",
        "fairdiff_scores = []\n",
        "\n",
        "for value in C:\n",
        "  clf = LogisticClassifier(train_german, unprivileged_groups, privileged_groups, C=value, solver=\"liblinear\", penalty=\"l2\")\n",
        "  clf.train(german_x_train, german_y_train,None)\n",
        "  mean, scores = clf.accuracy_fairness_score(german_x_train, german_y_train)                                                               \n",
        "  fairdiff.append(mean)\n",
        "  fairdiff_scores.append(scores)"
      ]
    },
    {
      "cell_type": "code",
      "execution_count": 33,
      "metadata": {
        "id": "JporsNqEkCpE"
      },
      "outputs": [],
      "source": [
        "fairdiff_new = scores_to_df(fairdiff_scores)"
      ]
    },
    {
      "cell_type": "code",
      "execution_count": 35,
      "metadata": {
        "colab": {
          "base_uri": "https://localhost:8080/",
          "height": 283
        },
        "id": "hJLKZdMZkCpG",
        "outputId": "ef069dfe-e19e-4967-faad-244d42041e1c"
      },
      "outputs": [
        {
          "data": {
            "image/png": "[encoded data removed]",
            "text/plain": [
              "<Figure size 432x288 with 1 Axes>"
            ]
          },
          "metadata": {
            "needs_background": "light"
          },
          "output_type": "display_data"
        }
      ],
      "source": [
        "# Plot boxplot for Accuracy\n",
        "bplot = sb.boxplot( \n",
        "                 data=fairdiff_new, \n",
        "                 width=0.5,\n",
        "                 palette=\"cubehelix\")\n",
        "# bplot.axes.set_title(\"Model Comparison, FairAccuracy, Original German Dataset\", fontsize=16)\n",
        "bplot.set_xlabel(\"C\", fontsize=14)\n",
        "bplot.set_ylabel(\"FairAccuracy\", fontsize=14)\n",
        "bplot.tick_params(labelsize=10)\n",
        "\n",
        "# # add swarmplot\n",
        "# bplot=sb.swarmplot(data=accuracy_raw_df_new, \n",
        "#               color='black',\n",
        "#               alpha=0.75)"
      ]
    },
    {
      "cell_type": "markdown",
      "metadata": {
        "id": "LymxfSo9kCpG"
      },
      "source": [
        "Testing - German"
      ]
    },
    {
      "cell_type": "code",
      "execution_count": 39,
      "metadata": {
        "colab": {
          "base_uri": "https://localhost:8080/",
          "height": 74
        },
        "id": "eNN5pYr6kCpH",
        "outputId": "67fa2218-6815-415c-8f42-baa89e88f696"
      },
      "outputs": [
        {
          "data": {
            "text/markdown": [
              "#### Original german dataset"
            ],
            "text/plain": [
              "<IPython.core.display.Markdown object>"
            ]
          },
          "metadata": {},
          "output_type": "display_data"
        },
        {
          "name": "stdout",
          "output_type": "stream",
          "text": [
            "Final Accuracy Score of Model 5G for german Dataset = 0.730000\n"
          ]
        }
      ],
      "source": [
        "display(Markdown(\"#### Original german dataset\"))\n",
        "print(\"Final Accuracy Score of Model 5G for german Dataset = %f\" % german_clf_diff.accuracy(german_x_test, german_y_test))"
      ]
    },
    {
      "cell_type": "markdown",
      "metadata": {
        "id": "P46XtKAaQyMH"
      },
      "source": [
        "## 3.2 Learning Fair Representations from Datasets "
      ]
    },
    {
      "cell_type": "markdown",
      "metadata": {
        "id": "zlvQRBHXNgRT"
      },
      "source": [
        "Optimise for both Accuracy and Fairness by using learned fair representations."
      ]
    },
    {
      "cell_type": "markdown",
      "metadata": {
        "id": "NDlH_iAkQyMH"
      },
      "source": [
        "This notebook demonstrates the use of LFR pre-processing algorithm for encoding data but hiding information related to protected attributes."
      ]
    },
    {
      "cell_type": "code",
      "execution_count": 51,
      "metadata": {
        "colab": {
          "base_uri": "https://localhost:8080/"
        },
        "id": "3xUzXO1yQyMH",
        "outputId": "c88f8697-d340-4f0f-e6fb-a57587f14db5"
      },
      "outputs": [
        {
          "name": "stdout",
          "output_type": "stream",
          "text": [
            "Mean difference:  0.00\n",
            "Disparate impact: 1.00\n"
          ]
        }
      ],
      "source": [
        "# Mitigate the bias via learned fair representations.\n",
        "# Use the fit method like a classifier, use the generated instance weights in the training phase in subsequent step.\n",
        "# switch back working directory for german dataset \n",
        "# do german first because it is active dataset\n",
        "\n",
        "# Dataset 1 - german\n",
        "# also redefine privileged and unprivileged groupings -\n",
        "privileged_groups = [{'age': 1}]\n",
        "unprivileged_groups = [{'age': 0}]\n",
        "\n",
        "TR = LFR(unprivileged_groups = unprivileged_groups, privileged_groups = privileged_groups)\n",
        "TR = TR.fit(train_german)\n",
        "\n",
        "# german_lfr_trn = TR.transform(train_german, thresh = 0.5)\n",
        "german_lfr_trn = TR.transform(train_german)\n",
        "german_lfr_trn = train_german.align_datasets(german_lfr_trn)\n",
        "\n",
        "# german_lfr_tst = TR.transform(test_german, thresh = 0.5)\n",
        "german_lfr_tst = TR.transform(test_german)\n",
        "german_lfr_tst = train_german.align_datasets(german_lfr_tst)\n",
        "\n"
      ]
    },
    {
      "cell_type": "code",
      "execution_count": 53,
      "metadata": {
        "id": "1aGSxr2PtuJb"
      },
      "outputs": [],
      "source": [
        "# Instantiate a Classifier\n",
        "german_clf_lfr = LogisticClassifier(german_lfr_trn, unprivileged_groups, privileged_groups)\n",
        "# train classifier\n",
        "german_clf_lfr.train(german_x_train, german_y_train, german_lfr_trn.instance_weights)"
      ]
    },
    {
      "cell_type": "code",
      "execution_count": 56,
      "metadata": {
        "colab": {
          "base_uri": "https://localhost:8080/"
        },
        "id": "AKNRcTiItuJc",
        "outputId": "494799bc-0a97-47ad-d9c4-d9f5ac6ea3c6"
      },
      "outputs": [
        {
          "name": "stderr",
          "output_type": "stream",
          "text": [
            "invalid value encountered in double_scalars\n",
            "invalid value encountered in double_scalars\n",
            "invalid value encountered in double_scalars\n",
            "invalid value encountered in double_scalars\n",
            "invalid value encountered in double_scalars\n",
            "invalid value encountered in double_scalars\n",
            "invalid value encountered in double_scalars\n",
            "invalid value encountered in double_scalars\n",
            "invalid value encountered in double_scalars\n",
            "invalid value encountered in double_scalars\n",
            "invalid value encountered in double_scalars\n",
            "invalid value encountered in double_scalars\n",
            "invalid value encountered in double_scalars\n",
            "invalid value encountered in double_scalars\n",
            "invalid value encountered in double_scalars\n",
            "invalid value encountered in double_scalars\n",
            "invalid value encountered in double_scalars\n",
            "invalid value encountered in double_scalars\n",
            "invalid value encountered in double_scalars\n",
            "invalid value encountered in double_scalars\n",
            "invalid value encountered in double_scalars\n",
            "invalid value encountered in double_scalars\n",
            "invalid value encountered in double_scalars\n",
            "invalid value encountered in double_scalars\n",
            "invalid value encountered in double_scalars\n",
            "invalid value encountered in double_scalars\n",
            "invalid value encountered in double_scalars\n",
            "invalid value encountered in double_scalars\n",
            "invalid value encountered in double_scalars\n",
            "invalid value encountered in double_scalars\n",
            "invalid value encountered in double_scalars\n",
            "invalid value encountered in double_scalars\n",
            "invalid value encountered in double_scalars\n",
            "invalid value encountered in double_scalars\n",
            "invalid value encountered in double_scalars\n",
            "invalid value encountered in double_scalars\n",
            "invalid value encountered in double_scalars\n",
            "invalid value encountered in double_scalars\n",
            "invalid value encountered in double_scalars\n",
            "invalid value encountered in double_scalars\n",
            "invalid value encountered in double_scalars\n",
            "invalid value encountered in double_scalars\n",
            "invalid value encountered in double_scalars\n",
            "invalid value encountered in double_scalars\n",
            "invalid value encountered in double_scalars\n",
            "invalid value encountered in double_scalars\n",
            "invalid value encountered in double_scalars\n",
            "invalid value encountered in double_scalars\n",
            "invalid value encountered in double_scalars\n",
            "invalid value encountered in double_scalars\n",
            "invalid value encountered in double_scalars\n",
            "invalid value encountered in double_scalars\n",
            "invalid value encountered in double_scalars\n",
            "invalid value encountered in double_scalars\n",
            "invalid value encountered in double_scalars\n",
            "invalid value encountered in double_scalars\n",
            "invalid value encountered in double_scalars\n",
            "invalid value encountered in double_scalars\n",
            "invalid value encountered in double_scalars\n",
            "invalid value encountered in double_scalars\n",
            "invalid value encountered in double_scalars\n",
            "invalid value encountered in double_scalars\n",
            "invalid value encountered in double_scalars\n",
            "invalid value encountered in double_scalars\n",
            "invalid value encountered in double_scalars\n",
            "invalid value encountered in double_scalars\n",
            "invalid value encountered in double_scalars\n",
            "invalid value encountered in double_scalars\n",
            "invalid value encountered in double_scalars\n",
            "invalid value encountered in double_scalars\n",
            "invalid value encountered in double_scalars\n",
            "invalid value encountered in double_scalars\n",
            "invalid value encountered in double_scalars\n",
            "invalid value encountered in double_scalars\n",
            "invalid value encountered in double_scalars\n",
            "invalid value encountered in double_scalars\n",
            "invalid value encountered in double_scalars\n",
            "invalid value encountered in double_scalars\n",
            "invalid value encountered in double_scalars\n",
            "invalid value encountered in double_scalars\n",
            "invalid value encountered in double_scalars\n",
            "invalid value encountered in double_scalars\n",
            "invalid value encountered in double_scalars\n",
            "invalid value encountered in double_scalars\n",
            "invalid value encountered in double_scalars\n",
            "invalid value encountered in double_scalars\n",
            "invalid value encountered in double_scalars\n",
            "invalid value encountered in double_scalars\n",
            "invalid value encountered in double_scalars\n",
            "invalid value encountered in double_scalars\n",
            "invalid value encountered in double_scalars\n",
            "invalid value encountered in double_scalars\n",
            "invalid value encountered in double_scalars\n",
            "invalid value encountered in double_scalars\n",
            "invalid value encountered in double_scalars\n",
            "invalid value encountered in double_scalars\n",
            "invalid value encountered in double_scalars\n",
            "invalid value encountered in double_scalars\n",
            "invalid value encountered in double_scalars\n",
            "invalid value encountered in double_scalars\n",
            "invalid value encountered in double_scalars\n",
            "invalid value encountered in double_scalars\n",
            "invalid value encountered in double_scalars\n",
            "invalid value encountered in double_scalars\n",
            "invalid value encountered in double_scalars\n",
            "invalid value encountered in double_scalars\n",
            "invalid value encountered in double_scalars\n",
            "invalid value encountered in double_scalars\n",
            "invalid value encountered in double_scalars\n",
            "invalid value encountered in double_scalars\n",
            "invalid value encountered in double_scalars\n",
            "invalid value encountered in double_scalars\n",
            "invalid value encountered in double_scalars\n",
            "invalid value encountered in double_scalars\n",
            "invalid value encountered in double_scalars\n",
            "invalid value encountered in double_scalars\n",
            "invalid value encountered in double_scalars\n",
            "invalid value encountered in double_scalars\n",
            "invalid value encountered in double_scalars\n",
            "invalid value encountered in double_scalars\n"
          ]
        }
      ],
      "source": [
        "# For reweighed adult dataset\n",
        "# Compute fairness and accuracy over folds and over Cs\n",
        "C = [0.00001, 0.0001, 0.001, 0.01, 0.1, 1]\n",
        "fairness = []\n",
        "accuracy = []\n",
        "accuracy_raw = []\n",
        "fairness_raw = []\n",
        "for value in C:\n",
        "  clf = LogisticClassifier(german_lfr_trn, unprivileged_groups, privileged_groups, C=value, solver=\"liblinear\", penalty=\"l2\")\n",
        "  clf.train(german_x_train, german_y_train, fit_params=german_lfr_trn.instance_weights)\n",
        "  fairness.append(clf.fairness_model_selection(german_x_train, german_y_train))\n",
        "  accuracy.append(clf.accuracy(german_x_train, german_y_train))\n",
        "  accuracy_raw.append(clf.accuracy_raw(german_x_train, german_y_train))\n",
        "  fairness_raw.append(clf.fairness_raw(german_x_train, german_y_train))"
      ]
    },
    {
      "cell_type": "code",
      "execution_count": null,
      "metadata": {
        "colab": {
          "base_uri": "https://localhost:8080/",
          "height": 92
        },
        "id": "ZxzlzsjZtuJd",
        "outputId": "10aa60b9-2880-4b41-91b6-f63808301dea"
      },
      "outputs": [
        {
          "data": {
            "text/markdown": [
              "#### Reweighed Adult training dataset Metrics"
            ],
            "text/plain": [
              "<IPython.core.display.Markdown object>"
            ]
          },
          "metadata": {},
          "output_type": "display_data"
        },
        {
          "name": "stdout",
          "output_type": "stream",
          "text": [
            "Best C value for accuracy:  0.1 with score: 0.8032701262503206\n",
            "Best C value for fairness:  0.01 with score: -0.012607869286405981\n"
          ]
        }
      ],
      "source": [
        "display(Markdown(\"#### Reweighed Adult training dataset Metrics\"))\n",
        "\n",
        "# Best Accuracy score, Fairness score and corresponding Cs\n",
        "adult_accuracy_comparison = dict(zip(C, accuracy))\n",
        "best_C_acc = max(adult_accuracy_comparison, key=lambda key: adult_accuracy_comparison[key])\n",
        "adult_fairness_comparison = dict(zip(C, fairness))\n",
        "best_C_fair = max(adult_fairness_comparison, key=lambda key: adult_fairness_comparison[key])\n",
        "print(\"Best C value for accuracy: \", best_C_acc, \"with score:\", adult_accuracy_comparison[best_C_acc])\n",
        "print(\"Best C value for fairness: \", best_C_fair, \"with score:\", adult_fairness_comparison[best_C_fair])"
      ]
    },
    {
      "cell_type": "markdown",
      "metadata": {
        "id": "T3xchhb9QyMI"
      },
      "source": [
        "## 2.2 Adult Dataset (Rerepresented) - Model Selection"
      ]
    }
  ],
  "metadata": {
    "colab": {
      "collapsed_sections": [
        "5bL_DqjsNQtd",
        "NmGefEvKVwy2",
        "gX4Jz2zad8Ix",
        "D0AT1YsbkCpC",
        "P46XtKAaQyMH"
      ],
      "name": "252083_MachineLearning.ipynb",
      "provenance": []
    },
    "kernelspec": {
      "display_name": "Python 3",
      "name": "python3"
    },
    "language_info": {
      "name": "python"
    }
  },
  "nbformat": 4,
  "nbformat_minor": 0
}
